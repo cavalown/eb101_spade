{
 "cells": [
  {
   "cell_type": "code",
   "execution_count": 19,
   "metadata": {},
   "outputs": [],
   "source": [
    "import pandas as pd"
   ]
  },
  {
   "cell_type": "code",
   "execution_count": 2,
   "metadata": {},
   "outputs": [],
   "source": [
    "x = [1,2,3]\n",
    "y = [3,4,5]\n",
    "z = [6,7,8]"
   ]
  },
  {
   "cell_type": "code",
   "execution_count": 3,
   "metadata": {},
   "outputs": [],
   "source": [
    "X = pd.DataFrame(x)\n",
    "Y = pd.DataFrame(y)\n",
    "Z = pd.DataFrame(z)"
   ]
  },
  {
   "cell_type": "code",
   "execution_count": null,
   "metadata": {},
   "outputs": [],
   "source": []
  },
  {
   "cell_type": "code",
   "execution_count": 18,
   "metadata": {},
   "outputs": [
    {
     "data": {
      "text/plain": [
       "[3, 2, 1]"
      ]
     },
     "execution_count": 18,
     "metadata": {},
     "output_type": "execute_result"
    }
   ],
   "source": [
    "x = {1,2,3,4,5,6,7}\n",
    "y = list(x)\n",
    "import random\n",
    "\n",
    "t = random.sample(y,3)\n",
    "t"
   ]
  },
  {
   "cell_type": "code",
   "execution_count": null,
   "metadata": {},
   "outputs": [],
   "source": []
  },
  {
   "cell_type": "code",
   "execution_count": 20,
   "metadata": {},
   "outputs": [
    {
     "name": "stdout",
     "output_type": "stream",
     "text": [
      "使用者為Cluster A的族群，推薦Cluster 7,3,4 的菜餚。\n"
     ]
    }
   ],
   "source": [
    "print('使用者為Cluster A的族群，推薦Cluster 7,3,4 的菜餚。')\n",
    "dish1 = pd.read_csv('DishWithCluster/dishCluster7.csv')\n",
    "dish2 = pd.read_csv('DishWithCluster/dishCluster3.csv')\n",
    "dish3 = pd.read_csv('DishWithCluster/dishCluster4.csv')\n",
    "advicePool = pd.concat([dish1,dish2,dish3],axis=0)\n",
    "advicePool.to_csv('people_c1_dish.csv',index=0)\n",
    "\n",
    "# for dishid in advicePool.r_id:\n",
    "#     adviceSet.add(dishid)\n",
    "#     adviceList=list(adviceSet)\n",
    "\n",
    "# advices = random.sample(adviceSet, k=5)\n",
    "    "
   ]
  },
  {
   "cell_type": "code",
   "execution_count": 21,
   "metadata": {},
   "outputs": [
    {
     "name": "stdout",
     "output_type": "stream",
     "text": [
      "使用者為Cluster B的族群，推薦Cluster 5,1,4,6 的菜餚。\n"
     ]
    }
   ],
   "source": [
    "print('使用者為Cluster B的族群，推薦Cluster 5,1,4,6 的菜餚。')\n",
    "dish1 = pd.read_csv('DishWithCluster/dishCluster5.csv')\n",
    "dish2 = pd.read_csv('DishWithCluster/dishCluster1.csv')\n",
    "dish3 = pd.read_csv('DishWithCluster/dishCluster4.csv')\n",
    "dish4 = pd.read_csv('DishWithCluster/dishCluster6.csv')\n",
    "advicePool = pd.concat([dish1,dish2,dish3,dish4],axis=0)\n",
    "advicePool.to_csv('people_c2_dish.csv',index=0)\n",
    "\n",
    "# for dishid in advicePool.r_id:\n",
    "#     adviceSet.add(dishid)\n",
    "#     adviceList=list(adviceSet)\n",
    "\n",
    "# advices = random.sample(adviceSet, k=5)\n",
    " "
   ]
  },
  {
   "cell_type": "code",
   "execution_count": 22,
   "metadata": {},
   "outputs": [
    {
     "name": "stdout",
     "output_type": "stream",
     "text": [
      "使用者為Cluster C的族群，推薦Cluster 7,6,3,1 的菜餚。\n"
     ]
    }
   ],
   "source": [
    "print('使用者為Cluster C的族群，推薦Cluster 7,6,3,1 的菜餚。')\n",
    "dish1 = pd.read_csv('DishWithCluster/dishCluster7.csv')\n",
    "dish2 = pd.read_csv('DishWithCluster/dishCluster6.csv')\n",
    "dish3 = pd.read_csv('DishWithCluster/dishCluster3.csv')\n",
    "dish4 = pd.read_csv('DishWithCluster/dishCluster1.csv')\n",
    "advicePool = pd.concat([dish1,dish2,dish3,dish4],axis=0)\n",
    "advicePool.to_csv('people_c3_dish.csv',index=0)\n",
    "\n",
    "# for dishid in advicePool.r_id:\n",
    "#     adviceSet.add(dishid)\n",
    "#     adviceList=list(adviceSet)\n",
    "\n",
    "# advices = random.sample(adviceSet, k=5)"
   ]
  },
  {
   "cell_type": "code",
   "execution_count": 24,
   "metadata": {},
   "outputs": [
    {
     "name": "stdout",
     "output_type": "stream",
     "text": [
      "使用者為Cluster D的族群，推薦Cluster 7,3,2,1,4 的菜餚。\n"
     ]
    }
   ],
   "source": [
    "print('使用者為Cluster D的族群，推薦Cluster 7,3,2,1,4 的菜餚。')\n",
    "dish1 = pd.read_csv('DishWithCluster/dishCluster7.csv')\n",
    "dish2 = pd.read_csv('DishWithCluster/dishCluster3.csv')\n",
    "dish3 = pd.read_csv('DishWithCluster/dishCluster2.csv')\n",
    "dish4 = pd.read_csv('DishWithCluster/dishCluster1.csv')\n",
    "dish5 = pd.read_csv('DishWithCluster/dishCluster4.csv')\n",
    "advicePool = pd.concat([dish1,dish2,dish3,dish4],axis=0)\n",
    "advicePool.to_csv('people_c4_dish.csv',index=0)\n",
    "\n",
    "# for dishid in advicePool.r_id:\n",
    "#     adviceSet.add(dishid)\n",
    "#     adviceList=list(adviceSet)\n",
    "\n",
    "# advices = random.sample(adviceSet, k=5)"
   ]
  },
  {
   "cell_type": "code",
   "execution_count": null,
   "metadata": {},
   "outputs": [],
   "source": []
  }
 ],
 "metadata": {
  "kernelspec": {
   "display_name": "Python 3",
   "language": "python",
   "name": "python3"
  },
  "language_info": {
   "codemirror_mode": {
    "name": "ipython",
    "version": 3
   },
   "file_extension": ".py",
   "mimetype": "text/x-python",
   "name": "python",
   "nbconvert_exporter": "python",
   "pygments_lexer": "ipython3",
   "version": "3.7.7"
  }
 },
 "nbformat": 4,
 "nbformat_minor": 4
}
