{
 "cells": [
  {
   "cell_type": "markdown",
   "metadata": {},
   "source": [
    "### 消費著匯入的資料與分群過的樣本資料做相似度分析 "
   ]
  },
  {
   "cell_type": "code",
   "execution_count": 1,
   "metadata": {},
   "outputs": [],
   "source": [
    "# !pip install pandas\n",
    "# !pip install numpy"
   ]
  },
  {
   "cell_type": "code",
   "execution_count": 2,
   "metadata": {},
   "outputs": [],
   "source": [
    "import pandas as pd\n",
    "import numpy as np\n",
    "import datetime\n",
    "import time"
   ]
  },
  {
   "cell_type": "code",
   "execution_count": 3,
   "metadata": {},
   "outputs": [],
   "source": [
    "# userA row inf\n",
    "\n",
    "birthstr = '19890614'\n",
    "today = datetime.date.today()\n",
    "# today\n",
    "yy = int(birthstr[:4]) #year\n",
    "mm = int(birthstr[4:6]) #month\n",
    "dd = int(birthstr[6:]) #day\n",
    "birth = datetime.date(yy,mm,dd)\n",
    "Age = today - birth #datatime\n",
    "Age = int(Age.days/365)\n",
    "'''\n",
    "people goal:\n",
    "1. normal 一般\n",
    "2. lose weight 減重\n",
    "3. increase weight 增重\n",
    "4. increase muscle 增肌\n",
    "5. ketogenic diet 生酮\n",
    "'''\n",
    "goal = 4 \n",
    "\n",
    "'''\n",
    "people sleep:\n",
    "1. normal\n",
    "2. sleep little\n",
    "'''\n",
    "sleep = 1"
   ]
  },
  {
   "cell_type": "markdown",
   "metadata": {},
   "source": [
    "#### 會員資料匯入"
   ]
  },
  {
   "cell_type": "code",
   "execution_count": 4,
   "metadata": {},
   "outputs": [
    {
     "name": "stdout",
     "output_type": "stream",
     "text": [
      "[0, 31, 166, 59, 21.4, 4, 1]\n"
     ]
    }
   ],
   "source": [
    "# userA information\n",
    "sex = 0\n",
    "age = Age\n",
    "height = 166\n",
    "weight = 59\n",
    "bmi = round(weight / (float(height/100)**2),1)\n",
    "goal = 4\n",
    "sleep = 1\n",
    "print([sex, age, height, weight, bmi, goal, sleep])"
   ]
  },
  {
   "cell_type": "code",
   "execution_count": 5,
   "metadata": {},
   "outputs": [
    {
     "data": {
      "text/plain": [
       "'\\n目標 和一般情形比較後 換算結果：\\n一般 [1.0, 1.0, 1.0]\\n減重 [0.34, 1.67, 2.0]\\n增重 [0.95, 1.39, 0.8]\\n增肌 [0.95, 1.39, 0.8]\\n生酮 [0.09, 1.11, 3.0]\\n'"
      ]
     },
     "execution_count": 5,
     "metadata": {},
     "output_type": "execute_result"
    }
   ],
   "source": [
    "'''\n",
    "goal 換算 以體重的比例換算(碳水，蛋白質，脂質)\n",
    "1. normal 一般 (0.58,0.18,0.25)\n",
    "2. lose weight 減重 (0.2,0.3,0.5)\n",
    "3. increase weight 增重 (0.55,0.25,0.2)\n",
    "4. increase muscle 增肌 (0.55,0.25,0.2)\n",
    "5. ketogenic diet 生酮 (0.05,0.2,0.75)\n",
    "'''\n",
    "# print('一般',[round(0.2/0.2,2), round(0.3/0.3,2), round(0.5/0.5,2)])\n",
    "# print('減重',[round(0.2/0.58,2), round(0.3/0.18,2), round(0.5/0.25,2)])\n",
    "# print('增重',[round(0.55/0.58,2), round(0.25/0.18,2), round(0.2/0.25,2)])\n",
    "# print('增肌',[round(0.55/0.58,2), round(0.25/0.18,2), round(0.2/0.25,2)])\n",
    "# print('生酮',[round(0.05/0.58,2), round(0.2/0.18,2), round(0.75/0.25,2)])\n",
    "\n",
    "'''\n",
    "目標 和一般情形比較後 換算結果：\n",
    "一般 [1.0, 1.0, 1.0]\n",
    "減重 [0.34, 1.67, 2.0]\n",
    "增重 [0.95, 1.39, 0.8]\n",
    "增肌 [0.95, 1.39, 0.8]\n",
    "生酮 [0.09, 1.11, 3.0]\n",
    "'''"
   ]
  },
  {
   "cell_type": "code",
   "execution_count": 6,
   "metadata": {},
   "outputs": [],
   "source": [
    "# userA Nutrition\n",
    "class UserNu_calculator:\n",
    "    def origNutrition(userNu):\n",
    "        cal= round((23.1811+2.2589*sex-0.01807*age-0.1448*weight+0.03797*height)*1.9*weight,1)\n",
    "        moi= round(weight*30,1)\n",
    "        pro= (round(weight*1.1,1) if age<71 else round(weight*1.2,1))\n",
    "        sf= round(cal*0.1,1)\n",
    "        car= round(cal*0.58,1)\n",
    "        na= 2400\n",
    "        k= 4700\n",
    "        ca= 1000\n",
    "        p= 800\n",
    "        ve = 12\n",
    "        vc = 100\n",
    "        fs= round(cal*0.1,1)\n",
    "        fm= round(cal*0.06,1)\n",
    "        fp= round(cal*0.009,1)\n",
    "        chol = 300\n",
    "\n",
    "        if sex == 0:\n",
    "            zn = 12\n",
    "            va = 500\n",
    "            vb = 20.59\n",
    "            if age <51:\n",
    "                dif = 27\n",
    "                mg = 320\n",
    "                fe = 15\n",
    "            elif 50<age<71:\n",
    "                dif = 25\n",
    "                mg = 310\n",
    "                fe = 10\n",
    "            else:\n",
    "                dif = 24\n",
    "                mg = 300\n",
    "                fe = 10\n",
    "        else:\n",
    "            zn = 15\n",
    "            fe = 10\n",
    "            va = 600\n",
    "            vb = 23.25\n",
    "            if age <51:\n",
    "                dif = 34\n",
    "                mg = 380\n",
    "            elif 50<age<71:\n",
    "                dif = 32\n",
    "                mg = 360\n",
    "            else:\n",
    "                dif = 30\n",
    "                mg = 350\n",
    "\n",
    "        userNu = [sex,age,bmi,height,weight,cal,moi,pro,sf,car,dif,na,k,ca,mg,fe,zn,p,va,ve,vb,vc,fs,fm,fp,chol]        \n",
    "        userNu = np.array(userNu)\n",
    "        print(userNu)\n",
    "        return userNu\n",
    "    \n",
    "    def userGoal(userNu):\n",
    "        if goal == 4:\n",
    "            vvv = df_userNu[3]\n",
    "            print(vvv)\n",
    "        return vvv"
   ]
  },
  {
   "cell_type": "code",
   "execution_count": 7,
   "metadata": {},
   "outputs": [],
   "source": [
    "# class Goal(UserNu_calculator):\n",
    "    \n",
    "        "
   ]
  },
  {
   "cell_type": "code",
   "execution_count": 8,
   "metadata": {},
   "outputs": [
    {
     "name": "stdout",
     "output_type": "stream",
     "text": [
      "[   0.     31.     21.4   166.     59.   2284.7  1770.     64.9   228.5\n",
      " 1325.1    27.   2400.   4700.   1000.    320.     15.     12.    800.\n",
      "  500.     12.     20.59  100.    228.5   137.1    20.6   300.  ]\n"
     ]
    },
    {
     "ename": "ValueError",
     "evalue": "DataFrame constructor not properly called!",
     "output_type": "error",
     "traceback": [
      "\u001b[0;31m---------------------------------------------------------------------------\u001b[0m",
      "\u001b[0;31mValueError\u001b[0m                                Traceback (most recent call last)",
      "\u001b[0;32m<ipython-input-8-3fcf2d011783>\u001b[0m in \u001b[0;36m<module>\u001b[0;34m\u001b[0m\n\u001b[1;32m      2\u001b[0m     \u001b[0muserRealNu\u001b[0m \u001b[0;34m=\u001b[0m \u001b[0mUserNu_calculator\u001b[0m\u001b[0;34m(\u001b[0m\u001b[0;34m)\u001b[0m\u001b[0;34m\u001b[0m\u001b[0;34m\u001b[0m\u001b[0m\n\u001b[1;32m      3\u001b[0m     \u001b[0muserRealNu\u001b[0m\u001b[0;34m.\u001b[0m\u001b[0morigNutrition\u001b[0m\u001b[0;34m(\u001b[0m\u001b[0;34m)\u001b[0m\u001b[0;34m\u001b[0m\u001b[0;34m\u001b[0m\u001b[0m\n\u001b[0;32m----> 4\u001b[0;31m     \u001b[0muserRealNu\u001b[0m\u001b[0;34m.\u001b[0m\u001b[0muserGoal\u001b[0m\u001b[0;34m(\u001b[0m\u001b[0;34m)\u001b[0m\u001b[0;34m\u001b[0m\u001b[0;34m\u001b[0m\u001b[0m\n\u001b[0m",
      "\u001b[0;32m<ipython-input-6-0db1c3b99a17>\u001b[0m in \u001b[0;36muserGoal\u001b[0;34m(userNu)\u001b[0m\n\u001b[1;32m     55\u001b[0m \u001b[0;34m\u001b[0m\u001b[0m\n\u001b[1;32m     56\u001b[0m     \u001b[0;32mdef\u001b[0m \u001b[0muserGoal\u001b[0m\u001b[0;34m(\u001b[0m\u001b[0muserNu\u001b[0m\u001b[0;34m)\u001b[0m\u001b[0;34m:\u001b[0m\u001b[0;34m\u001b[0m\u001b[0;34m\u001b[0m\u001b[0m\n\u001b[0;32m---> 57\u001b[0;31m         \u001b[0mdf_userNu\u001b[0m \u001b[0;34m=\u001b[0m \u001b[0mpd\u001b[0m\u001b[0;34m.\u001b[0m\u001b[0mDataFrame\u001b[0m\u001b[0;34m(\u001b[0m\u001b[0muserNu\u001b[0m\u001b[0;34m)\u001b[0m\u001b[0;34m\u001b[0m\u001b[0;34m\u001b[0m\u001b[0m\n\u001b[0m\u001b[1;32m     58\u001b[0m         \u001b[0;32mif\u001b[0m \u001b[0mgoal\u001b[0m \u001b[0;34m==\u001b[0m \u001b[0;36m4\u001b[0m\u001b[0;34m:\u001b[0m\u001b[0;34m\u001b[0m\u001b[0;34m\u001b[0m\u001b[0m\n\u001b[1;32m     59\u001b[0m             \u001b[0mvvv\u001b[0m \u001b[0;34m=\u001b[0m \u001b[0mdf_userNu\u001b[0m\u001b[0;34m[\u001b[0m\u001b[0;36m3\u001b[0m\u001b[0;34m]\u001b[0m\u001b[0;34m\u001b[0m\u001b[0;34m\u001b[0m\u001b[0m\n",
      "\u001b[0;32m/opt/anaconda3/envs/R_env/lib/python3.8/site-packages/pandas/core/frame.py\u001b[0m in \u001b[0;36m__init__\u001b[0;34m(self, data, index, columns, dtype, copy)\u001b[0m\n\u001b[1;32m    507\u001b[0m                 )\n\u001b[1;32m    508\u001b[0m             \u001b[0;32melse\u001b[0m\u001b[0;34m:\u001b[0m\u001b[0;34m\u001b[0m\u001b[0;34m\u001b[0m\u001b[0m\n\u001b[0;32m--> 509\u001b[0;31m                 \u001b[0;32mraise\u001b[0m \u001b[0mValueError\u001b[0m\u001b[0;34m(\u001b[0m\u001b[0;34m\"DataFrame constructor not properly called!\"\u001b[0m\u001b[0;34m)\u001b[0m\u001b[0;34m\u001b[0m\u001b[0;34m\u001b[0m\u001b[0m\n\u001b[0m\u001b[1;32m    510\u001b[0m \u001b[0;34m\u001b[0m\u001b[0m\n\u001b[1;32m    511\u001b[0m         \u001b[0mNDFrame\u001b[0m\u001b[0;34m.\u001b[0m\u001b[0m__init__\u001b[0m\u001b[0;34m(\u001b[0m\u001b[0mself\u001b[0m\u001b[0;34m,\u001b[0m \u001b[0mmgr\u001b[0m\u001b[0;34m,\u001b[0m \u001b[0mfastpath\u001b[0m\u001b[0;34m=\u001b[0m\u001b[0;32mTrue\u001b[0m\u001b[0;34m)\u001b[0m\u001b[0;34m\u001b[0m\u001b[0;34m\u001b[0m\u001b[0m\n",
      "\u001b[0;31mValueError\u001b[0m: DataFrame constructor not properly called!"
     ]
    }
   ],
   "source": [
    "if __name__ == '__main__':\n",
    "    userRealNu = UserNu_calculator()\n",
    "    userRealNu.origNutrition()\n",
    "    userRealNu.userGoal()"
   ]
  },
  {
   "cell_type": "code",
   "execution_count": null,
   "metadata": {},
   "outputs": [],
   "source": []
  }
 ],
 "metadata": {
  "kernelspec": {
   "display_name": "Python 3",
   "language": "python",
   "name": "python3"
  },
  "language_info": {
   "codemirror_mode": {
    "name": "ipython",
    "version": 3
   },
   "file_extension": ".py",
   "mimetype": "text/x-python",
   "name": "python",
   "nbconvert_exporter": "python",
   "pygments_lexer": "ipython3",
   "version": "3.8.2"
  }
 },
 "nbformat": 4,
 "nbformat_minor": 4
}
