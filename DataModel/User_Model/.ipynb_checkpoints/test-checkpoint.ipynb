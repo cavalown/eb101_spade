{
 "cells": [
  {
   "cell_type": "code",
   "execution_count": 1,
   "metadata": {},
   "outputs": [],
   "source": [
    "import pandas as pd\n",
    "import statistics as stat\n",
    "import numpy as np\n",
    "from scipy.spatial.distance import pdist"
   ]
  },
  {
   "cell_type": "code",
   "execution_count": 2,
   "metadata": {},
   "outputs": [],
   "source": [
    "path0 = 'DishWithCluster/dish_clusters.csv'\n",
    "path1 = 'DishWithCluster/dishCluster1.csv'\n",
    "path2 = 'DishWithCluster/dishCluster2.csv'\n",
    "path3 = 'DishWithCluster/dishCluster3.csv'\n",
    "path4 = 'DishWithCluster/dishCluster4.csv'\n",
    "path5 = 'DishWithCluster/dishCluster5.csv'\n",
    "path6 = 'DishWithCluster/dishCluster6.csv'\n",
    "path7 = 'DishWithCluster/dishCluster7.csv'"
   ]
  },
  {
   "cell_type": "code",
   "execution_count": 3,
   "metadata": {},
   "outputs": [],
   "source": [
    "nuNeed = pd.DataFrame([1918.0, 1350.0, 49.5, 191.8, 1112.4, 27, 2400, 4700, 1000, 320, 15, 12, 800, 500, 12, 20.59, 100, 191.8, 115.1, 17.3, 300])\n",
    "nuEat = pd.DataFrame([800,250,12,33,124,1,901,2300,243,123,2,3,321,123,4,7,43,43,54,2,126])\n",
    "leftNu = np.array(nuNeed)-np.array(nuEat)\n",
    "# print(leftNu)"
   ]
  },
  {
   "cell_type": "code",
   "execution_count": 4,
   "metadata": {},
   "outputs": [],
   "source": [
    "#總體的統計\n",
    "def rowData(path):\n",
    "    data = pd.read_csv(path)\n",
    "    dataS = data.iloc[:,[4,5,6,8,10,11,12,13,14,15,16,17,18,19,20,21,22,23,24,25,27]]\n",
    "    dataV = np.array(dataS)\n",
    "    Mean = np.mean(dataV,axis=0)\n",
    "    Sigma = np.std(dataV, axis=0)\n",
    "#     Value = (dataV-Mean)/Sigma\n",
    "    return Mean, Sigma"
   ]
  },
  {
   "cell_type": "code",
   "execution_count": 5,
   "metadata": {},
   "outputs": [],
   "source": [
    "# 個體依據總體統計做標準化\n",
    "def standardizationt(path, all_mean, all_sigma):\n",
    "    data = pd.read_csv(path)\n",
    "    dataS = data.iloc[:,[3,4,5,7,9,10,11,12,13,14,15,16,17,18,19,20,21,22,23,24,26]]\n",
    "    dataV = np.array(dataS)\n",
    "#     Mean = np.mean(dataV,axis=0)\n",
    "#     Sigma = np.std(dataV, axis=0)\n",
    "    Value = (dataV-all_mean)/all_sigma\n",
    "    return Value"
   ]
  },
  {
   "cell_type": "code",
   "execution_count": 6,
   "metadata": {},
   "outputs": [],
   "source": [
    "# 剩餘營養素的相似度\n",
    "def distance2(userLeft, dishV):\n",
    "    # Eucledian Distance #####\n",
    "    ED_dict = dict()\n",
    "    i = 1\n",
    "    for eachDishV in dishV:\n",
    "        X = np.vstack([userLeft, eachDishV])\n",
    "        ED = pdist(X)\n",
    "        ed = eachDishV.tolist()\n",
    "        ED_dict[str(ED).strip('[').strip(']')] = f'{i}|{ed}'\n",
    "        i+=1\n",
    "    minED = min(ED_dict.keys())\n",
    "    clusterED = ED_dict[minED].split('|')[0]\n",
    "\n",
    "    # Manhattan Distance #####\n",
    "    MD_dict = dict()\n",
    "    i = 1\n",
    "    for eachDishV in dishV:\n",
    "        X = np.vstack([userLeft, eachDishV])\n",
    "        MD = pdist(X, 'cityblock')\n",
    "        md = eachDishV.tolist()\n",
    "        MD_dict[str(MD).strip('[').strip(']')] = f'{i}|{md}'\n",
    "        i+=1\n",
    "    minMD = min(MD_dict.keys())\n",
    "    clusterMD = MD_dict[minMD].split('|')[0]\n",
    "\n",
    "    # Chebyshev Distance #####\n",
    "    CheD_dict = dict()\n",
    "    i = 1\n",
    "    for eachDishV in dishV:\n",
    "        X = np.vstack([userLeft, eachDishV])\n",
    "        CheD = pdist(X, 'chebyshev')\n",
    "        ched = eachDishV.tolist()\n",
    "        CheD_dict[str(CheD).strip('[').strip(']')] = f'{i}|{ched}'\n",
    "        i+=1\n",
    "    minCheD = min(CheD_dict.keys())\n",
    "    clusterCheD = CheD_dict[minCheD].split('|')[0]\n",
    "    \n",
    "    # Minkowski Distance #####\n",
    "    MinkD_dict = dict()\n",
    "    i = 1\n",
    "    for eachDishV in dishV:\n",
    "        X = np.vstack([userLeft, eachDishV])\n",
    "        MinkD = pdist(X, 'minkowski')\n",
    "        minkd = eachDishV.tolist()\n",
    "        MinkD_dict[str(MinkD).strip('[').strip(']')] = f'{i}|{minkd}'\n",
    "        i+=1\n",
    "    minMinkD = min(MinkD_dict.keys())\n",
    "    clusterMinkD = MinkD_dict[minMinkD].split('|')[0]\n",
    "\n",
    "    # Cosine Distance #####\n",
    "    CosD_dict = dict()\n",
    "    i = 1\n",
    "    for eachDishV in dishV:\n",
    "        X = np.vstack([userLeft, eachDishV])\n",
    "        CosD = pdist(X, 'cosine')\n",
    "        cosd = eachDishV.tolist()\n",
    "        CosD_dict[str(CosD).strip('[').strip(']')] = f'{i}|{cosd}'\n",
    "        i+=1\n",
    "    minCosD = min(CosD_dict.keys())\n",
    "    clusterCosD = CosD_dict[minCosD].split('|')[0]\n",
    "\n",
    "    # 取五種相似度距離算出的群眾數 #####\n",
    "    print('根據五種距離相似度得到的結果：')\n",
    "    print(f'1. Eucledian Distance-> user cluster = {clusterED}')\n",
    "    print(f'2. Manhattan Distance-> user cluster = {clusterMD}')\n",
    "    print(f'3. Chebyshev Distance-> user cluster = {clusterCheD}')\n",
    "    print(f'4. Minkowski Distance-> user cluster = {clusterMinkD}')\n",
    "    print(f'5. Cosine Distance-> user cluster = {clusterCosD}')\n",
    "    print('=' * 20)\n",
    "    counts = np.bincount([clusterED, clusterMD, clusterCheD, clusterMinkD, clusterCosD])\n",
    "    modeNum = np.argmax(counts)\n",
    "    # print(f'Cluster取眾數為：{modeNum}')\n",
    "    return modeNum"
   ]
  },
  {
   "cell_type": "code",
   "execution_count": 7,
   "metadata": {},
   "outputs": [],
   "source": [
    "# "
   ]
  },
  {
   "cell_type": "code",
   "execution_count": 8,
   "metadata": {
    "scrolled": false
   },
   "outputs": [
    {
     "name": "stdout",
     "output_type": "stream",
     "text": [
      "根據五種距離相似度得到的結果：\n",
      "1. Eucledian Distance-> user cluster = 2\n",
      "2. Manhattan Distance-> user cluster = 2\n",
      "3. Chebyshev Distance-> user cluster = 1\n",
      "4. Minkowski Distance-> user cluster = 2\n",
      "5. Cosine Distance-> user cluster = 5\n",
      "====================\n",
      "2\n"
     ]
    }
   ],
   "source": [
    "if __name__ == '__main__':\n",
    "    # 算出總體的mean和sigma\n",
    "    dish = rowData(path0)\n",
    "    all_mean = dish[0]\n",
    "#     print(all_mean)\n",
    "    all_sigma = dish[1]\n",
    "    # 將每一道菜做標準化（依群）\n",
    "    dish1 = standardizationt(path1,all_mean,all_sigma)\n",
    "    dish2 = standardizationt(path2,all_mean,all_sigma)\n",
    "    dish3 = standardizationt(path3,all_mean,all_sigma)\n",
    "    dish4 = standardizationt(path4,all_mean,all_sigma)\n",
    "    dish5 = standardizationt(path5,all_mean,all_sigma)\n",
    "    dish6 = standardizationt(path6,all_mean,all_sigma)\n",
    "    dish7 = standardizationt(path7,all_mean,all_sigma)\n",
    "    # 求取每一群的代表向量\n",
    "    dish1V = np.mean(dish1,axis=0)\n",
    "    dish2V = np.mean(dish2,axis=0)\n",
    "    dish3V = np.mean(dish3,axis=0)\n",
    "    dish4V = np.mean(dish4,axis=0)\n",
    "    dish5V = np.mean(dish5,axis=0)\n",
    "    dish6V = np.mean(dish6,axis=0)\n",
    "    dish7V = np.mean(dish7,axis=0)\n",
    "    dishV = np.vstack([dish1V,dish2V,dish3V,dish4V,dish5V,dish6V,dish7V])\n",
    "    # 將user剩餘的營養需求做標準化（用總體的統計資料）\n",
    "    userLeft = (leftNu.T-all_mean)/all_sigma\n",
    "#     print(userLeft)\n",
    "    # 將使用者剩餘的營養需求向量和7個菜餚群做相似度分析\n",
    "    cluster = distance2(userLeft, dishV)\n",
    "    print(cluster)"
   ]
  },
  {
   "cell_type": "code",
   "execution_count": 9,
   "metadata": {},
   "outputs": [],
   "source": [
    "data = pd.read_csv(path0)\n",
    "dataS = data.iloc[:,[4,5,6,7,8,10,11,12,13,14,15,16,17,18,19,20,21,22,23,24,25,27]]\n",
    "# print(dataS)\n",
    "\n",
    "data1 = pd.read_csv(path1)\n",
    "# data1.iloc[:,[3,4,5,6,7,9,10,11,12,13,14,15,16,17,18,19,20,21,22,23,24,26]]"
   ]
  },
  {
   "cell_type": "code",
   "execution_count": 10,
   "metadata": {},
   "outputs": [],
   "source": [
    "# 4:-1\n",
    "# 4 Calories(kcal)\n",
    "# 5Moisture(g)\n",
    "# 6 Protein(g)\n",
    "# 7 Crude_fat(g)\n",
    "# 8 Saturated_fat(g)\n",
    "# 9 #Ash(g)\n",
    "# 10 Carbohydrate(g)\n",
    "# 11 Dietary_fiber(g)\n",
    "# 12 Na(mg)\n",
    "# 13 K(mg)\n",
    "# 14 Ca(mg)\n",
    "# 15 Mg(mg)\n",
    "# 16 Fe(mg)\n",
    "# 17 Zn(mg)\n",
    "# 18 P(mg)\n",
    "# 19 VitaminA(IU)\n",
    "# 20 VitaminE(mg)\n",
    "# 21 VitaminB_group\n",
    "# 22 VitaminC(mg)\n",
    "# 23 Fatty_acid_S(mg)\n",
    "# 24 Fatty_acid_M(mg)\n",
    "# 25 Fatty_acid_P(mg)\n",
    "# 26 #Amino_acid(mg)\n",
    "# 27 Cholesterol(mg)\n",
    "# [calories,moisture,protein,saturated_fat,carbohydrate,dietary_fiber,\n",
    "#  na,k,ca,mg,fe,zn,p,VitaminA,VitaminE,VitaminB_group,\n",
    "#  VitaminC,Fatty_acid_S,Fatty_acid_M,Fatty_acid_P,Cholesterol]\n"
   ]
  },
  {
   "cell_type": "code",
   "execution_count": null,
   "metadata": {},
   "outputs": [],
   "source": []
  }
 ],
 "metadata": {
  "kernelspec": {
   "display_name": "Python 3",
   "language": "python",
   "name": "python3"
  },
  "language_info": {
   "codemirror_mode": {
    "name": "ipython",
    "version": 3
   },
   "file_extension": ".py",
   "mimetype": "text/x-python",
   "name": "python",
   "nbconvert_exporter": "python",
   "pygments_lexer": "ipython3",
   "version": "3.7.7"
  }
 },
 "nbformat": 4,
 "nbformat_minor": 4
}
