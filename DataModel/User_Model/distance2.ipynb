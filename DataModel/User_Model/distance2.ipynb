{
 "cells": [
  {
   "cell_type": "code",
   "execution_count": 5,
   "metadata": {},
   "outputs": [],
   "source": [
    "import pandas as pd\n",
    "import numpy as np"
   ]
  },
  {
   "cell_type": "code",
   "execution_count": 1,
   "metadata": {},
   "outputs": [],
   "source": [
    "# food_cluster = pd.read_csv('peopleSample_cluster.csv')\n",
    "# food_cluster"
   ]
  },
  {
   "cell_type": "code",
   "execution_count": 7,
   "metadata": {},
   "outputs": [],
   "source": [
    "# food_cluster1 = food_cluster[food_cluster.Cluster==1]\n",
    "# food_cluster2 = food_cluster[food_cluster.Cluster==2]\n",
    "# food_cluster3 = food_cluster[food_cluster.Cluster==3]\n",
    "# food_cluster4 = food_cluster[food_cluster.Cluster==4]\n",
    "# food_cluster5 = food_cluster[food_cluster.Cluster==5]\n",
    "# food_cluster6 = food_cluster[food_cluster.Cluster==6]\n",
    "# food_cluster7 = food_cluster[food_cluster.Cluster==7]"
   ]
  },
  {
   "cell_type": "code",
   "execution_count": 8,
   "metadata": {},
   "outputs": [],
   "source": [
    "# food_cluster1.to_csv('food_cluster1.csv',index=False)\n",
    "# food_cluster2.to_csv('food_cluster2.csv',index=False)\n",
    "# food_cluster3.to_csv('food_cluster3.csv',index=False)\n",
    "# food_cluster4.to_csv('food_cluster4.csv',index=False)\n",
    "# food_cluster5.to_csv('food_cluster5.csv',index=False)\n",
    "# food_cluster6.to_csv('food_cluster6.csv',index=False)\n",
    "# food_cluster7.to_csv('food_cluster7.csv',index=False)"
   ]
  },
  {
   "cell_type": "code",
   "execution_count": null,
   "metadata": {},
   "outputs": [],
   "source": []
  },
  {
   "cell_type": "code",
   "execution_count": null,
   "metadata": {},
   "outputs": [],
   "source": []
  },
  {
   "cell_type": "code",
   "execution_count": null,
   "metadata": {},
   "outputs": [],
   "source": [
    "### user's nutrition left\n",
    "userNu = [sex,age,bmi,height,weight,cal,moi,pro,sf,car,dif,na,k,ca,mg,fe,zn,p,va,ve,vb,vc,fs,fm,fp,chol]\n"
   ]
  }
 ],
 "metadata": {
  "kernelspec": {
   "display_name": "Python 3",
   "language": "python",
   "name": "python3"
  },
  "language_info": {
   "codemirror_mode": {
    "name": "ipython",
    "version": 3
   },
   "file_extension": ".py",
   "mimetype": "text/x-python",
   "name": "python",
   "nbconvert_exporter": "python",
   "pygments_lexer": "ipython3",
   "version": "3.7.7"
  }
 },
 "nbformat": 4,
 "nbformat_minor": 4
}
