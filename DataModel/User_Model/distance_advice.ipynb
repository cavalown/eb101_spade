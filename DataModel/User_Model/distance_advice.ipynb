{
 "cells": [
  {
   "cell_type": "markdown",
   "metadata": {},
   "source": [
    "### 消費著匯入的資料與分群過的樣本資料做相似度分析 "
   ]
  },
  {
   "cell_type": "code",
   "execution_count": 1,
   "metadata": {},
   "outputs": [],
   "source": [
    "# !pip install pandas\n",
    "# !pip install numpy\n",
    "# !pip install scipy"
   ]
  },
  {
   "cell_type": "code",
   "execution_count": 2,
   "metadata": {},
   "outputs": [],
   "source": [
    "import pandas as pd\n",
    "import numpy as np\n",
    "import datetime\n",
    "import time\n",
    "import random"
   ]
  },
  {
   "cell_type": "code",
   "execution_count": 3,
   "metadata": {},
   "outputs": [],
   "source": [
    "# userA row inf\n",
    "\n",
    "birthstr = '20030707'\n",
    "today = datetime.date.today()\n",
    "# today\n",
    "yy = int(birthstr[:4]) #year\n",
    "mm = int(birthstr[4:6]) #month\n",
    "dd = int(birthstr[6:]) #day\n",
    "birth = datetime.date(yy,mm,dd)\n",
    "Age = today - birth #datatime\n",
    "Age = int(Age.days/365)\n",
    "'''\n",
    "people goal:\n",
    "1. normal 一般\n",
    "2. lose weight 減重\n",
    "3. increase weight 增重\n",
    "4. increase muscle 增肌\n",
    "5. ketogenic diet 生酮\n",
    "'''\n",
    "goal = 1 \n",
    "\n",
    "'''\n",
    "people sleep:\n",
    "1. normal\n",
    "2. sleep little\n",
    "'''\n",
    "sleep = 1"
   ]
  },
  {
   "cell_type": "markdown",
   "metadata": {},
   "source": [
    "#### 會員資料匯入"
   ]
  },
  {
   "cell_type": "code",
   "execution_count": 4,
   "metadata": {},
   "outputs": [
    {
     "name": "stdout",
     "output_type": "stream",
     "text": [
      "營養貓\n",
      "[0, 17, 160, 45, 17.6, 1, 1]\n"
     ]
    }
   ],
   "source": [
    "# userA information\n",
    "sex = 0\n",
    "age = Age\n",
    "height = 160\n",
    "weight = 45\n",
    "bmi = round(weight / (float(height/100)**2),1)\n",
    "goal = 1\n",
    "sleep = 1\n",
    "print('營養貓')\n",
    "print([sex, age, height, weight, bmi, goal, sleep])"
   ]
  },
  {
   "cell_type": "code",
   "execution_count": 5,
   "metadata": {},
   "outputs": [
    {
     "data": {
      "text/plain": [
       "'\\n目標 和一般情形比較後 換算結果：\\n1. 一般 [1.0, 1.0, 1.0]\\n2. 減重 [0.34, 1.67, 2.0]\\n3. 增重 [0.95, 1.39, 0.8]\\n4. 增肌 [0.95, 1.39, 0.8]\\n5. 生酮 [0.09, 1.11, 3.0]\\n'"
      ]
     },
     "execution_count": 5,
     "metadata": {},
     "output_type": "execute_result"
    }
   ],
   "source": [
    "'''\n",
    "goal 換算 以體重的比例換算(碳水，蛋白質，脂質)\n",
    "1. normal 一般 (0.58,0.18,0.25)\n",
    "2. lose weight 減重 (0.2,0.3,0.5)\n",
    "3. increase weight 增重 (0.55,0.25,0.2) cal*1.5\n",
    "4. increase muscle 增肌 (0.55,0.25,0.2) cal*1.2\n",
    "5. ketogenic diet 生酮 (0.05,0.2,0.75)\n",
    "'''\n",
    "# print('一般',[round(0.2/0.2,2), round(0.3/0.3,2), round(0.5/0.5,2)])\n",
    "# print('減重',[round(0.2/0.58,2), round(0.3/0.18,2), round(0.5/0.25,2)])\n",
    "# print('增重',[round(0.55/0.58,2), round(0.25/0.18,2), round(0.2/0.25,2)])\n",
    "# print('增肌',[round(0.55/0.58,2), round(0.25/0.18,2), round(0.2/0.25,2)])\n",
    "# print('生酮',[round(0.05/0.58,2), round(0.2/0.18,2), round(0.75/0.25,2)])\n",
    "\n",
    "'''\n",
    "目標 和一般情形比較後 換算結果：\n",
    "1. 一般 [1.0, 1.0, 1.0]\n",
    "2. 減重 [0.34, 1.67, 2.0]\n",
    "3. 增重 [0.95, 1.39, 0.8]\n",
    "4. 增肌 [0.95, 1.39, 0.8]\n",
    "5. 生酮 [0.09, 1.11, 3.0]\n",
    "'''"
   ]
  },
  {
   "cell_type": "code",
   "execution_count": 6,
   "metadata": {},
   "outputs": [
    {
     "data": {
      "text/plain": [
       "[0,\n",
       " 17,\n",
       " 17.6,\n",
       " 160,\n",
       " 45,\n",
       " 1918.0,\n",
       " 1350,\n",
       " 49.5,\n",
       " 191.8,\n",
       " 1112.4,\n",
       " 27,\n",
       " 2400,\n",
       " 4700,\n",
       " 1000,\n",
       " 320,\n",
       " 15,\n",
       " 12,\n",
       " 800,\n",
       " 500,\n",
       " 12,\n",
       " 20.59,\n",
       " 100,\n",
       " 191.8,\n",
       " 115.1,\n",
       " 17.3,\n",
       " 300]"
      ]
     },
     "execution_count": 6,
     "metadata": {},
     "output_type": "execute_result"
    }
   ],
   "source": [
    "# userA Nutrition\n",
    "\n",
    "cal= round((23.1811+2.2589*sex-0.01807*age-0.1448*weight+0.03797*height)*1.9*weight,1)\n",
    "moi= round(weight*30,1)\n",
    "pro= (round(weight*1.1,1) if age<71 else round(weight*1.2,1))\n",
    "sf= round(cal*0.1,1)\n",
    "car= round(cal*0.58,1)\n",
    "na= 2400\n",
    "k= 4700\n",
    "ca= 1000\n",
    "p= 800\n",
    "ve = 12\n",
    "vc = 100\n",
    "fs= round(cal*0.1,1)\n",
    "fm= round(cal*0.06,1)\n",
    "fp= round(cal*0.009,1)\n",
    "chol = 300\n",
    "\n",
    "if sex == 0:\n",
    "    zn = 12\n",
    "    va = 500\n",
    "    vb = 20.59\n",
    "    if age <51:\n",
    "        dif = 27\n",
    "        mg = 320\n",
    "        fe = 15\n",
    "    elif 50<age<71:\n",
    "        dif = 25\n",
    "        mg = 310\n",
    "        fe = 10\n",
    "    else:\n",
    "        dif = 24\n",
    "        mg = 300\n",
    "        fe = 10\n",
    "else:\n",
    "    zn = 15\n",
    "    fe = 10\n",
    "    va = 600\n",
    "    vb = 23.25\n",
    "    if age <51:\n",
    "        dif = 34\n",
    "        mg = 380\n",
    "    elif 50<age<71:\n",
    "        dif = 32\n",
    "        mg = 360\n",
    "    else:\n",
    "        dif = 30\n",
    "        mg = 350\n",
    "\n",
    "\n",
    "if goal == 2:\n",
    "    car = round(car*0.34,2)\n",
    "    pro = round(pro*1.67,2)\n",
    "    sf = round(sf*2,2)\n",
    "elif goal == 3:\n",
    "    cal = round(cal*1.5,2)\n",
    "    car = round(car*1.5*0.95,2)\n",
    "    pro = round(pro*1.5*1.39,2)\n",
    "    sf = round(sf*1.5*0.8,2)\n",
    "    fs = round(fs*1.5,2)\n",
    "    fm = round(fm*1.5,2)\n",
    "    fp = round(fp*1.5,2)\n",
    "elif goal == 4:\n",
    "    cal = round(cal*1.2,2)\n",
    "    car = round(car*1.2*0.95,2)\n",
    "    pro = round(pro*1.2*1.39,2)\n",
    "    sf = round(sf*1.2*0.8,2)\n",
    "    fs = round(fs*1.2,2)\n",
    "    fm = round(fm*1.2,2)\n",
    "    fp = round(fp*1.2,2)\n",
    "elif goal == 5:\n",
    "    car = round(car*0.09,2)\n",
    "    pro = round(pro*1.11,2)\n",
    "    sf = round(sf*3,2)\n",
    "        \n",
    "userNu = [sex,age,bmi,height,weight,cal,moi,pro,sf,car,dif,na,k,ca,mg,fe,zn,p,va,ve,vb,vc,fs,fm,fp,chol] \n",
    "userNu"
   ]
  },
  {
   "cell_type": "code",
   "execution_count": 7,
   "metadata": {},
   "outputs": [
    {
     "name": "stdout",
     "output_type": "stream",
     "text": [
      "[   0.     17.     17.6   160.     45.   1918.   1350.     49.5   191.8\n",
      " 1112.4    27.   2400.   4700.   1000.    320.     15.     12.    800.\n",
      "  500.     12.     20.59  100.    191.8   115.1    17.3   300.  ]\n"
     ]
    }
   ],
   "source": [
    "      \n",
    "userNu = np.array(userNu)\n",
    "print(userNu)"
   ]
  },
  {
   "cell_type": "code",
   "execution_count": 8,
   "metadata": {},
   "outputs": [
    {
     "data": {
      "text/plain": [
       "array([   0.  ,   17.  ,   17.6 ,  160.  ,   45.  , 1918.  , 1350.  ,\n",
       "         49.5 ,  191.8 , 1112.4 ,   27.  , 2400.  , 4700.  , 1000.  ,\n",
       "        320.  ,   15.  ,   12.  ,  800.  ,  500.  ,   12.  ,   20.59,\n",
       "        100.  ,  191.8 ,  115.1 ,   17.3 ,  300.  ])"
      ]
     },
     "execution_count": 8,
     "metadata": {},
     "output_type": "execute_result"
    }
   ],
   "source": [
    "userNu"
   ]
  },
  {
   "cell_type": "markdown",
   "metadata": {},
   "source": [
    "#### 匯入樣本資料"
   ]
  },
  {
   "cell_type": "code",
   "execution_count": 9,
   "metadata": {},
   "outputs": [
    {
     "data": {
      "text/html": [
       "<div>\n",
       "<style scoped>\n",
       "    .dataframe tbody tr th:only-of-type {\n",
       "        vertical-align: middle;\n",
       "    }\n",
       "\n",
       "    .dataframe tbody tr th {\n",
       "        vertical-align: top;\n",
       "    }\n",
       "\n",
       "    .dataframe thead th {\n",
       "        text-align: right;\n",
       "    }\n",
       "</style>\n",
       "<table border=\"1\" class=\"dataframe\">\n",
       "  <thead>\n",
       "    <tr style=\"text-align: right;\">\n",
       "      <th></th>\n",
       "      <th>Unnamed: 0</th>\n",
       "      <th>X</th>\n",
       "      <th>Sex</th>\n",
       "      <th>Age</th>\n",
       "      <th>Height</th>\n",
       "      <th>Weight</th>\n",
       "      <th>BMI</th>\n",
       "      <th>Calories</th>\n",
       "      <th>Moisture</th>\n",
       "      <th>Protein</th>\n",
       "      <th>...</th>\n",
       "      <th>P</th>\n",
       "      <th>VitaminA</th>\n",
       "      <th>VitaminE</th>\n",
       "      <th>VitaminB_group</th>\n",
       "      <th>VitaminC</th>\n",
       "      <th>Fatty_acid_S</th>\n",
       "      <th>Fatty_acid_M</th>\n",
       "      <th>Fatty_acid_P</th>\n",
       "      <th>Cholesterol</th>\n",
       "      <th>Cluster</th>\n",
       "    </tr>\n",
       "  </thead>\n",
       "  <tbody>\n",
       "    <tr>\n",
       "      <th>0</th>\n",
       "      <td>1</td>\n",
       "      <td>0</td>\n",
       "      <td>0</td>\n",
       "      <td>19</td>\n",
       "      <td>140</td>\n",
       "      <td>31.4</td>\n",
       "      <td>16</td>\n",
       "      <td>1408.4</td>\n",
       "      <td>942</td>\n",
       "      <td>34.5</td>\n",
       "      <td>...</td>\n",
       "      <td>800</td>\n",
       "      <td>500</td>\n",
       "      <td>12</td>\n",
       "      <td>20.59</td>\n",
       "      <td>100</td>\n",
       "      <td>140.8</td>\n",
       "      <td>84.5</td>\n",
       "      <td>12.7</td>\n",
       "      <td>300</td>\n",
       "      <td>1</td>\n",
       "    </tr>\n",
       "    <tr>\n",
       "      <th>1</th>\n",
       "      <td>2</td>\n",
       "      <td>1</td>\n",
       "      <td>0</td>\n",
       "      <td>19</td>\n",
       "      <td>141</td>\n",
       "      <td>31.8</td>\n",
       "      <td>16</td>\n",
       "      <td>1425.1</td>\n",
       "      <td>954</td>\n",
       "      <td>35.0</td>\n",
       "      <td>...</td>\n",
       "      <td>800</td>\n",
       "      <td>500</td>\n",
       "      <td>12</td>\n",
       "      <td>20.59</td>\n",
       "      <td>100</td>\n",
       "      <td>142.5</td>\n",
       "      <td>85.5</td>\n",
       "      <td>12.8</td>\n",
       "      <td>300</td>\n",
       "      <td>1</td>\n",
       "    </tr>\n",
       "    <tr>\n",
       "      <th>2</th>\n",
       "      <td>3</td>\n",
       "      <td>2</td>\n",
       "      <td>0</td>\n",
       "      <td>19</td>\n",
       "      <td>142</td>\n",
       "      <td>32.3</td>\n",
       "      <td>16</td>\n",
       "      <td>1445.4</td>\n",
       "      <td>969</td>\n",
       "      <td>35.5</td>\n",
       "      <td>...</td>\n",
       "      <td>800</td>\n",
       "      <td>500</td>\n",
       "      <td>12</td>\n",
       "      <td>20.59</td>\n",
       "      <td>100</td>\n",
       "      <td>144.5</td>\n",
       "      <td>86.7</td>\n",
       "      <td>13.0</td>\n",
       "      <td>300</td>\n",
       "      <td>1</td>\n",
       "    </tr>\n",
       "    <tr>\n",
       "      <th>3</th>\n",
       "      <td>4</td>\n",
       "      <td>3</td>\n",
       "      <td>0</td>\n",
       "      <td>19</td>\n",
       "      <td>143</td>\n",
       "      <td>32.7</td>\n",
       "      <td>16</td>\n",
       "      <td>1462.1</td>\n",
       "      <td>981</td>\n",
       "      <td>36.0</td>\n",
       "      <td>...</td>\n",
       "      <td>800</td>\n",
       "      <td>500</td>\n",
       "      <td>12</td>\n",
       "      <td>20.59</td>\n",
       "      <td>100</td>\n",
       "      <td>146.2</td>\n",
       "      <td>87.7</td>\n",
       "      <td>13.2</td>\n",
       "      <td>300</td>\n",
       "      <td>1</td>\n",
       "    </tr>\n",
       "    <tr>\n",
       "      <th>4</th>\n",
       "      <td>5</td>\n",
       "      <td>4</td>\n",
       "      <td>0</td>\n",
       "      <td>19</td>\n",
       "      <td>144</td>\n",
       "      <td>33.2</td>\n",
       "      <td>16</td>\n",
       "      <td>1482.3</td>\n",
       "      <td>996</td>\n",
       "      <td>36.5</td>\n",
       "      <td>...</td>\n",
       "      <td>800</td>\n",
       "      <td>500</td>\n",
       "      <td>12</td>\n",
       "      <td>20.59</td>\n",
       "      <td>100</td>\n",
       "      <td>148.2</td>\n",
       "      <td>88.9</td>\n",
       "      <td>13.3</td>\n",
       "      <td>300</td>\n",
       "      <td>1</td>\n",
       "    </tr>\n",
       "    <tr>\n",
       "      <th>...</th>\n",
       "      <td>...</td>\n",
       "      <td>...</td>\n",
       "      <td>...</td>\n",
       "      <td>...</td>\n",
       "      <td>...</td>\n",
       "      <td>...</td>\n",
       "      <td>...</td>\n",
       "      <td>...</td>\n",
       "      <td>...</td>\n",
       "      <td>...</td>\n",
       "      <td>...</td>\n",
       "      <td>...</td>\n",
       "      <td>...</td>\n",
       "      <td>...</td>\n",
       "      <td>...</td>\n",
       "      <td>...</td>\n",
       "      <td>...</td>\n",
       "      <td>...</td>\n",
       "      <td>...</td>\n",
       "      <td>...</td>\n",
       "      <td>...</td>\n",
       "    </tr>\n",
       "    <tr>\n",
       "      <th>91195</th>\n",
       "      <td>91196</td>\n",
       "      <td>91195</td>\n",
       "      <td>1</td>\n",
       "      <td>75</td>\n",
       "      <td>175</td>\n",
       "      <td>107.2</td>\n",
       "      <td>35</td>\n",
       "      <td>2137.3</td>\n",
       "      <td>3216</td>\n",
       "      <td>128.6</td>\n",
       "      <td>...</td>\n",
       "      <td>800</td>\n",
       "      <td>600</td>\n",
       "      <td>12</td>\n",
       "      <td>23.25</td>\n",
       "      <td>100</td>\n",
       "      <td>263.7</td>\n",
       "      <td>158.2</td>\n",
       "      <td>23.7</td>\n",
       "      <td>300</td>\n",
       "      <td>3</td>\n",
       "    </tr>\n",
       "    <tr>\n",
       "      <th>91196</th>\n",
       "      <td>91197</td>\n",
       "      <td>91196</td>\n",
       "      <td>1</td>\n",
       "      <td>75</td>\n",
       "      <td>176</td>\n",
       "      <td>108.4</td>\n",
       "      <td>35</td>\n",
       "      <td>2138.8</td>\n",
       "      <td>3252</td>\n",
       "      <td>130.1</td>\n",
       "      <td>...</td>\n",
       "      <td>800</td>\n",
       "      <td>600</td>\n",
       "      <td>12</td>\n",
       "      <td>23.25</td>\n",
       "      <td>100</td>\n",
       "      <td>263.9</td>\n",
       "      <td>158.3</td>\n",
       "      <td>23.7</td>\n",
       "      <td>300</td>\n",
       "      <td>3</td>\n",
       "    </tr>\n",
       "    <tr>\n",
       "      <th>91197</th>\n",
       "      <td>91198</td>\n",
       "      <td>91197</td>\n",
       "      <td>1</td>\n",
       "      <td>75</td>\n",
       "      <td>177</td>\n",
       "      <td>109.7</td>\n",
       "      <td>35</td>\n",
       "      <td>2139.1</td>\n",
       "      <td>3291</td>\n",
       "      <td>131.6</td>\n",
       "      <td>...</td>\n",
       "      <td>800</td>\n",
       "      <td>600</td>\n",
       "      <td>12</td>\n",
       "      <td>23.25</td>\n",
       "      <td>100</td>\n",
       "      <td>263.9</td>\n",
       "      <td>158.3</td>\n",
       "      <td>23.8</td>\n",
       "      <td>300</td>\n",
       "      <td>3</td>\n",
       "    </tr>\n",
       "    <tr>\n",
       "      <th>91198</th>\n",
       "      <td>91199</td>\n",
       "      <td>91198</td>\n",
       "      <td>1</td>\n",
       "      <td>75</td>\n",
       "      <td>178</td>\n",
       "      <td>110.9</td>\n",
       "      <td>35</td>\n",
       "      <td>2139.4</td>\n",
       "      <td>3327</td>\n",
       "      <td>133.1</td>\n",
       "      <td>...</td>\n",
       "      <td>800</td>\n",
       "      <td>600</td>\n",
       "      <td>12</td>\n",
       "      <td>23.25</td>\n",
       "      <td>100</td>\n",
       "      <td>263.9</td>\n",
       "      <td>158.4</td>\n",
       "      <td>23.8</td>\n",
       "      <td>300</td>\n",
       "      <td>3</td>\n",
       "    </tr>\n",
       "    <tr>\n",
       "      <th>91199</th>\n",
       "      <td>91200</td>\n",
       "      <td>91199</td>\n",
       "      <td>1</td>\n",
       "      <td>75</td>\n",
       "      <td>179</td>\n",
       "      <td>112.1</td>\n",
       "      <td>35</td>\n",
       "      <td>2139.0</td>\n",
       "      <td>3363</td>\n",
       "      <td>134.5</td>\n",
       "      <td>...</td>\n",
       "      <td>800</td>\n",
       "      <td>600</td>\n",
       "      <td>12</td>\n",
       "      <td>23.25</td>\n",
       "      <td>100</td>\n",
       "      <td>263.9</td>\n",
       "      <td>158.3</td>\n",
       "      <td>23.8</td>\n",
       "      <td>300</td>\n",
       "      <td>3</td>\n",
       "    </tr>\n",
       "  </tbody>\n",
       "</table>\n",
       "<p>91200 rows × 29 columns</p>\n",
       "</div>"
      ],
      "text/plain": [
       "       Unnamed: 0      X  Sex  Age  Height  Weight  BMI  Calories  Moisture  \\\n",
       "0               1      0    0   19     140    31.4   16    1408.4       942   \n",
       "1               2      1    0   19     141    31.8   16    1425.1       954   \n",
       "2               3      2    0   19     142    32.3   16    1445.4       969   \n",
       "3               4      3    0   19     143    32.7   16    1462.1       981   \n",
       "4               5      4    0   19     144    33.2   16    1482.3       996   \n",
       "...           ...    ...  ...  ...     ...     ...  ...       ...       ...   \n",
       "91195       91196  91195    1   75     175   107.2   35    2137.3      3216   \n",
       "91196       91197  91196    1   75     176   108.4   35    2138.8      3252   \n",
       "91197       91198  91197    1   75     177   109.7   35    2139.1      3291   \n",
       "91198       91199  91198    1   75     178   110.9   35    2139.4      3327   \n",
       "91199       91200  91199    1   75     179   112.1   35    2139.0      3363   \n",
       "\n",
       "       Protein  ...    P  VitaminA  VitaminE  VitaminB_group  VitaminC  \\\n",
       "0         34.5  ...  800       500        12           20.59       100   \n",
       "1         35.0  ...  800       500        12           20.59       100   \n",
       "2         35.5  ...  800       500        12           20.59       100   \n",
       "3         36.0  ...  800       500        12           20.59       100   \n",
       "4         36.5  ...  800       500        12           20.59       100   \n",
       "...        ...  ...  ...       ...       ...             ...       ...   \n",
       "91195    128.6  ...  800       600        12           23.25       100   \n",
       "91196    130.1  ...  800       600        12           23.25       100   \n",
       "91197    131.6  ...  800       600        12           23.25       100   \n",
       "91198    133.1  ...  800       600        12           23.25       100   \n",
       "91199    134.5  ...  800       600        12           23.25       100   \n",
       "\n",
       "       Fatty_acid_S  Fatty_acid_M  Fatty_acid_P  Cholesterol  Cluster  \n",
       "0             140.8          84.5          12.7          300        1  \n",
       "1             142.5          85.5          12.8          300        1  \n",
       "2             144.5          86.7          13.0          300        1  \n",
       "3             146.2          87.7          13.2          300        1  \n",
       "4             148.2          88.9          13.3          300        1  \n",
       "...             ...           ...           ...          ...      ...  \n",
       "91195         263.7         158.2          23.7          300        3  \n",
       "91196         263.9         158.3          23.7          300        3  \n",
       "91197         263.9         158.3          23.8          300        3  \n",
       "91198         263.9         158.4          23.8          300        3  \n",
       "91199         263.9         158.3          23.8          300        3  \n",
       "\n",
       "[91200 rows x 29 columns]"
      ]
     },
     "execution_count": 9,
     "metadata": {},
     "output_type": "execute_result"
    }
   ],
   "source": [
    "data = pd.read_csv('peopleSample_cluster.csv')\n",
    "# data.head()\n",
    "data = pd.DataFrame(data)\n",
    "data\n",
    "# sample = np.array(data.iloc[:,1:])"
   ]
  },
  {
   "cell_type": "code",
   "execution_count": 10,
   "metadata": {},
   "outputs": [
    {
     "data": {
      "text/plain": [
       "array([[  0. ,  19. , 140. , ...,  84.5,  12.7, 300. ],\n",
       "       [  0. ,  19. , 141. , ...,  85.5,  12.8, 300. ],\n",
       "       [  0. ,  19. , 142. , ...,  86.7,  13. , 300. ],\n",
       "       ...,\n",
       "       [  1. ,  75. , 177. , ..., 158.3,  23.8, 300. ],\n",
       "       [  1. ,  75. , 178. , ..., 158.4,  23.8, 300. ],\n",
       "       [  1. ,  75. , 179. , ..., 158.3,  23.8, 300. ]])"
      ]
     },
     "execution_count": 10,
     "metadata": {},
     "output_type": "execute_result"
    }
   ],
   "source": [
    "sample = np.array(data.iloc[:,2:-1])\n",
    "sample"
   ]
  },
  {
   "cell_type": "code",
   "execution_count": 11,
   "metadata": {},
   "outputs": [],
   "source": [
    "# 使用scipy套件 計算各種距離\n",
    "from scipy.spatial.distance import pdist"
   ]
  },
  {
   "cell_type": "markdown",
   "metadata": {},
   "source": [
    "### Eucledian Distance"
   ]
  },
  {
   "cell_type": "code",
   "execution_count": 12,
   "metadata": {
    "scrolled": false
   },
   "outputs": [
    {
     "name": "stdout",
     "output_type": "stream",
     "text": [
      "E Distance: 176.82983345578313\n",
      "Sample content: [   0.     19.    142.     46.4    23.   1896.4  1392.     51.    189.6\n",
      " 1099.9    27.   2400.   4700.   1000.    320.     15.     12.    800.\n",
      "  500.     12.     20.59  100.    189.6   113.8    17.1   300.  ]\n",
      "Cluster:\n",
      "1\n",
      "--------------------\n"
     ]
    },
    {
     "name": "stderr",
     "output_type": "stream",
     "text": [
      "/opt/anaconda3/envs/python_env/lib/python3.7/site-packages/ipykernel_launcher.py:15: UserWarning: Boolean Series key will be reindexed to match DataFrame index.\n",
      "  from ipykernel import kernelapp as app\n"
     ]
    }
   ],
   "source": [
    "# Eucledian Distance\n",
    "minED = [100000000000]\n",
    "content1 = []\n",
    "for eachSample in sample:\n",
    "#     print(eachSample)\n",
    "    X=np.vstack([userNu,eachSample])\n",
    "    ED=pdist(X)\n",
    "    if ED < minED[0]:\n",
    "        minED=ED\n",
    "        content1 = eachSample\n",
    "\n",
    "print('E Distance:',minED[0])\n",
    "print('Sample content:',content1)\n",
    "print('Cluster:')\n",
    "cluster=data[data.Sex==content1[0]][data.Age==content1[1]][data.Height==content1[2]][data.BMI==content1[4]].Cluster\n",
    "userCluster_e = cluster.iloc[0]\n",
    "print(userCluster_e)\n",
    "print('-'*20)"
   ]
  },
  {
   "cell_type": "markdown",
   "metadata": {},
   "source": [
    "### Manhattan Distance"
   ]
  },
  {
   "cell_type": "code",
   "execution_count": 13,
   "metadata": {},
   "outputs": [
    {
     "name": "stdout",
     "output_type": "stream",
     "text": [
      "M Distance: 176.82983345578313\n",
      "Sample content: [   0.     19.    155.     45.6    19.   1916.5  1368.     50.2   191.7\n",
      " 1111.6    27.   2400.   4700.   1000.    320.     15.     12.    800.\n",
      "  500.     12.     20.59  100.    191.7   115.     17.2   300.  ]\n",
      "Cluster:\n",
      "1\n",
      "--------------------\n"
     ]
    },
    {
     "name": "stderr",
     "output_type": "stream",
     "text": [
      "/opt/anaconda3/envs/python_env/lib/python3.7/site-packages/ipykernel_launcher.py:15: UserWarning: Boolean Series key will be reindexed to match DataFrame index.\n",
      "  from ipykernel import kernelapp as app\n"
     ]
    }
   ],
   "source": [
    "# Manhattan Distance\n",
    "minMD = [100000000000]\n",
    "content2 = []\n",
    "for eachSample in sample:\n",
    "    # print(eachSample)\n",
    "    X=np.vstack([userNu,eachSample])\n",
    "    MD=pdist(X,'cityblock')\n",
    "    if MD < minMD[0]:\n",
    "        minMD=MD\n",
    "        content2 = eachSample\n",
    "\n",
    "print('M Distance:',minED[0])\n",
    "print('Sample content:',content2)\n",
    "print('Cluster:')\n",
    "cluster=data[data.Sex==content2[0]][data.Age==content2[1]][data.Height==content2[2]][data.BMI==content2[4]].Cluster\n",
    "userCluster_m = cluster.iloc[0]\n",
    "print(userCluster_m)\n",
    "print('-'*20)"
   ]
  },
  {
   "cell_type": "markdown",
   "metadata": {},
   "source": [
    "### Chebyshev Distance"
   ]
  },
  {
   "cell_type": "code",
   "execution_count": 14,
   "metadata": {},
   "outputs": [
    {
     "name": "stdout",
     "output_type": "stream",
     "text": [
      "Che Distance: 122.4\n",
      "Sample content: [   0.     19.    140.     45.1    23.   1852.9  1353.     49.6   185.3\n",
      " 1074.7    27.   2400.   4700.   1000.    320.     15.     12.    800.\n",
      "  500.     12.     20.59  100.    185.3   111.2    16.7   300.  ]\n",
      "Cluster:\n",
      "1\n",
      "--------------------\n"
     ]
    },
    {
     "name": "stderr",
     "output_type": "stream",
     "text": [
      "/opt/anaconda3/envs/python_env/lib/python3.7/site-packages/ipykernel_launcher.py:15: UserWarning: Boolean Series key will be reindexed to match DataFrame index.\n",
      "  from ipykernel import kernelapp as app\n"
     ]
    }
   ],
   "source": [
    "# Chebyshev Distance\n",
    "minCD = [100000000000]\n",
    "content3 = []\n",
    "for eachSample in sample:\n",
    "    # print(eachSample)\n",
    "    X=np.vstack([userNu,eachSample])\n",
    "    CD=pdist(X,'chebyshev')\n",
    "    if CD < minCD[0]:\n",
    "        minCD=CD\n",
    "        content3 = eachSample\n",
    "\n",
    "print('Che Distance:',minCD[0])\n",
    "print('Sample content:',content3)\n",
    "print('Cluster:')\n",
    "cluster=data[data.Sex==content1[0]][data.Age==content3[1]][data.Height==content3[2]][data.BMI==content3[4]].Cluster\n",
    "userCluster_che = cluster.iloc[0]\n",
    "print(userCluster_che)\n",
    "print('-'*20)"
   ]
  },
  {
   "cell_type": "markdown",
   "metadata": {},
   "source": [
    "### Minkowski Distance"
   ]
  },
  {
   "cell_type": "code",
   "execution_count": 15,
   "metadata": {},
   "outputs": [
    {
     "name": "stdout",
     "output_type": "stream",
     "text": [
      "Mi Distance: 176.82983345578313\n",
      "Sample content: [   0.     19.    142.     46.4    23.   1896.4  1392.     51.    189.6\n",
      " 1099.9    27.   2400.   4700.   1000.    320.     15.     12.    800.\n",
      "  500.     12.     20.59  100.    189.6   113.8    17.1   300.  ]\n",
      "Cluster:\n",
      "1\n",
      "--------------------\n"
     ]
    },
    {
     "name": "stderr",
     "output_type": "stream",
     "text": [
      "/opt/anaconda3/envs/python_env/lib/python3.7/site-packages/ipykernel_launcher.py:15: UserWarning: Boolean Series key will be reindexed to match DataFrame index.\n",
      "  from ipykernel import kernelapp as app\n"
     ]
    }
   ],
   "source": [
    "# Minkowski Distance\n",
    "minMiD = [100000000000]\n",
    "content4 = []\n",
    "for eachSample in sample:\n",
    "    # print(eachSample)\n",
    "    X=np.vstack([userNu,eachSample])\n",
    "    MiD=pdist(X,'minkowski', p=2)\n",
    "    if MiD < minMiD[0]:\n",
    "        minMiD=MiD\n",
    "        content4 = eachSample\n",
    "\n",
    "print('Mi Distance:',minMiD[0])\n",
    "print('Sample content:',content4)\n",
    "print('Cluster:')\n",
    "cluster=data[data.Sex==content4[0]][data.Age==content4[1]][data.Height==content4[2]][data.BMI==content4[4]].Cluster\n",
    "userCluster_mi = cluster.iloc[0]\n",
    "print(userCluster_mi)\n",
    "print('-'*20)"
   ]
  },
  {
   "cell_type": "markdown",
   "metadata": {},
   "source": [
    "### Cosine Distance"
   ]
  },
  {
   "cell_type": "code",
   "execution_count": 16,
   "metadata": {},
   "outputs": [
    {
     "name": "stdout",
     "output_type": "stream",
     "text": [
      "Cos Distance: 0.0004248513998563741\n",
      "Sample content: [   0.     19.    142.     46.4    23.   1896.4  1392.     51.    189.6\n",
      " 1099.9    27.   2400.   4700.   1000.    320.     15.     12.    800.\n",
      "  500.     12.     20.59  100.    189.6   113.8    17.1   300.  ]\n",
      "Cluster:\n",
      "1\n",
      "--------------------\n"
     ]
    },
    {
     "name": "stderr",
     "output_type": "stream",
     "text": [
      "/opt/anaconda3/envs/python_env/lib/python3.7/site-packages/ipykernel_launcher.py:15: UserWarning: Boolean Series key will be reindexed to match DataFrame index.\n",
      "  from ipykernel import kernelapp as app\n"
     ]
    }
   ],
   "source": [
    "# Cosine Distance\n",
    "minMiD = [100000000000]\n",
    "content5 = []\n",
    "for eachSample in sample:\n",
    "    # print(eachSample)\n",
    "    X=np.vstack([userNu,eachSample])\n",
    "    MiD=pdist(X,'cosine')\n",
    "    if MiD < minMiD[0]:\n",
    "        minMiD=MiD\n",
    "        content5 = eachSample\n",
    "\n",
    "print('Cos Distance:',minMiD[0])\n",
    "print('Sample content:',content4)\n",
    "print('Cluster:')\n",
    "cluster=data[data.Sex==content5[0]][data.Age==content5[1]][data.Height==content5[2]][data.BMI==content5[4]].Cluster\n",
    "userCluster_cos = cluster.iloc[0]\n",
    "print(userCluster_cos)\n",
    "print('-'*20)"
   ]
  },
  {
   "cell_type": "code",
   "execution_count": 17,
   "metadata": {},
   "outputs": [
    {
     "name": "stdout",
     "output_type": "stream",
     "text": [
      "根據五種距離相似度得到的結果：\n",
      "1. Eucledian Distance-> user cluster =  1\n",
      "2. Manhattan Distance-> user cluster =  1\n",
      "3. Chebyshev Distance-> user cluster =  1\n",
      "4. Minkowski Distance-> user cluster =  1\n",
      "5. Cosine Distance-> user cluster =  1\n",
      "--------------------------------------------------\n",
      "Cluster取眾數為： 1\n"
     ]
    }
   ],
   "source": [
    "print('根據五種距離相似度得到的結果：')\n",
    "print('1. Eucledian Distance-> user cluster = ', userCluster_e)\n",
    "print('2. Manhattan Distance-> user cluster = ', userCluster_m)\n",
    "print('3. Chebyshev Distance-> user cluster = ', userCluster_che)\n",
    "print('4. Minkowski Distance-> user cluster = ', userCluster_mi)\n",
    "print('5. Cosine Distance-> user cluster = ', userCluster_cos)\n",
    "print('-'*50)\n",
    "counts = np.bincount([userCluster_e,userCluster_m,userCluster_che,userCluster_mi,userCluster_cos])\n",
    "#返回众数\n",
    "modeNum = np.argmax(counts)\n",
    "print('Cluster取眾數為：', modeNum)"
   ]
  },
  {
   "cell_type": "code",
   "execution_count": 18,
   "metadata": {},
   "outputs": [],
   "source": [
    "# col = [\"Sex\",\"Age\",\"Height\",\"Weight\",\"BMI\",\"Calories\",\"Moisture\",\"Protein\",\"Saturated_fat\",\"Carbohydrate\",\"Dietary_fiber\",\"Na\",\"K\",\"Ca\",\"Mg\",\"Fe\",\"Zn\",\"P\",\"VitaminA\",\"VitaminE\",\"VitaminB_group\",\"VitaminC\",\"Fatty_acid_S\",\"Fatty_acid_M\",\"Fatty_acid_P\",\"Cholesterol\",\"Cluster\"]\n",
    "# df2 = pd.DataFrame(user).T\n",
    "# df2.columns=col\n",
    "# print(df2)\n",
    "# df2"
   ]
  },
  {
   "cell_type": "code",
   "execution_count": null,
   "metadata": {},
   "outputs": [],
   "source": []
  },
  {
   "cell_type": "markdown",
   "metadata": {},
   "source": [
    "## 推薦系統"
   ]
  },
  {
   "cell_type": "code",
   "execution_count": 19,
   "metadata": {},
   "outputs": [
    {
     "name": "stdout",
     "output_type": "stream",
     "text": [
      "使用者為Cluster A的族群，推薦Cluster 7,3,4 的菜餚。\n",
      "[10042045, 10013927, 10018977, 10043983, 10042490]\n"
     ]
    }
   ],
   "source": [
    "adviceSet = set()\n",
    "adviceDish=[]\n",
    "if modeNum == 1:\n",
    "    print('使用者為Cluster A的族群，推薦Cluster 7,3,4 的菜餚。')\n",
    "    dish1 = pd.read_csv('DishWithCluster/dishCluster7.csv')\n",
    "    dish2 = pd.read_csv('DishWithCluster/dishCluster3.csv')\n",
    "    dish3 = pd.read_csv('DishWithCluster/dishCluster4.csv')\n",
    "    advicePool = pd.concat([dish1,dish2,dish3],axis=0)\n",
    "    for dishid in advicePool.r_id:\n",
    "        adviceSet.add(dishid)\n",
    "        adviceList=list(adviceSet)\n",
    "        \n",
    "    advices = random.sample(adviceSet, k=5)\n",
    "    \n",
    "    \n",
    "elif modeNum ==2:\n",
    "    print('使用者為Cluster B的族群，推薦Cluster 5,1,4,6 的菜餚。')\n",
    "    dish1 = pd.read_csv('DishWithCluster/dishCluster5.csv')\n",
    "    dish2 = pd.read_csv('DishWithCluster/dishCluster1.csv')\n",
    "    dish3 = pd.read_csv('DishWithCluster/dishCluster4.csv')\n",
    "    dish4 = pd.read_csv('DishWithCluster/dishCluster6.csv')\n",
    "    advicePool = pd.concat([dish1,dish2,dish3,dish4],axis=0)\n",
    "    for dishid in advicePool.r_id:\n",
    "        adviceSet.add(dishid)\n",
    "        adviceList=list(adviceSet)\n",
    "        \n",
    "    advices = random.sample(adviceSet, k=5)\n",
    "    \n",
    "elif modeNum ==3:\n",
    "    print('使用者為Cluster C的族群，推薦Cluster 7,6,3,1 的菜餚。')\n",
    "    dish1 = pd.read_csv('DishWithCluster/dishCluster7.csv')\n",
    "    dish2 = pd.read_csv('DishWithCluster/dishCluster6.csv')\n",
    "    dish3 = pd.read_csv('DishWithCluster/dishCluster3.csv')\n",
    "    dish4 = pd.read_csv('DishWithCluster/dishCluster1.csv')\n",
    "    advicePool = pd.concat([dish1,dish2,dish3,dish4],axis=0)\n",
    "    for dishid in advicePool.r_id:\n",
    "        adviceSet.add(dishid)\n",
    "        adviceList=list(adviceSet)\n",
    "        \n",
    "    advices = random.sample(adviceSet, k=5)\n",
    "    \n",
    "elif modeNum == 4:\n",
    "    print('使用者為Cluster D的族群，推薦Cluster 7,3,2,1,4 的菜餚。')\n",
    "    dish1 = pd.read_csv('DishWithCluster/dishCluster7.csv')\n",
    "    dish2 = pd.read_csv('DishWithCluster/dishCluster3.csv')\n",
    "    dish3 = pd.read_csv('DishWithCluster/dishCluster2.csv')\n",
    "    dish4 = pd.read_csv('DishWithCluster/dishCluster1.csv')\n",
    "    dish5 = pd.read_csv('DishWithCluster/dishCluster4.csv')\n",
    "    advicePool, = pd.concat([dish1,dish2,dish3,dish4],axis=0)\n",
    "    for dishid in advicePool.r_id:\n",
    "        adviceSet.add(dishid)\n",
    "        adviceList=list(adviceSet)\n",
    "        \n",
    "    advices = random.sample(adviceSet, k=5)\n",
    "\n",
    "\n",
    "    \n",
    "print(advices)"
   ]
  }
 ],
 "metadata": {
  "kernelspec": {
   "display_name": "Python 3",
   "language": "python",
   "name": "python3"
  },
  "language_info": {
   "codemirror_mode": {
    "name": "ipython",
    "version": 3
   },
   "file_extension": ".py",
   "mimetype": "text/x-python",
   "name": "python",
   "nbconvert_exporter": "python",
   "pygments_lexer": "ipython3",
   "version": "3.7.7"
  }
 },
 "nbformat": 4,
 "nbformat_minor": 4
}
