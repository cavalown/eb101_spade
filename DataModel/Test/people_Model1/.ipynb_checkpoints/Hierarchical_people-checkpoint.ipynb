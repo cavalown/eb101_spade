{
 "cells": [
  {
   "cell_type": "code",
   "execution_count": 1,
   "metadata": {},
   "outputs": [],
   "source": [
    "#### 階層式集群分析 HCPC ####"
   ]
  },
  {
   "cell_type": "code",
   "execution_count": 1,
   "metadata": {
    "scrolled": false
   },
   "outputs": [
    {
     "data": {
      "text/html": [
       "<table>\n",
       "<thead><tr><th></th><th scope=col>used</th><th scope=col>(Mb)</th><th scope=col>gc trigger</th><th scope=col>(Mb)</th><th scope=col>max used</th><th scope=col>(Mb)</th></tr></thead>\n",
       "<tbody>\n",
       "\t<tr><th scope=row>Ncells</th><td>519207 </td><td>27.8   </td><td>1162288</td><td>62.1   </td><td> 642320</td><td>34.4   </td></tr>\n",
       "\t<tr><th scope=row>Vcells</th><td>985562 </td><td> 7.6   </td><td>8388608</td><td>64.0   </td><td>1774274</td><td>13.6   </td></tr>\n",
       "</tbody>\n",
       "</table>\n"
      ],
      "text/latex": [
       "\\begin{tabular}{r|llllll}\n",
       "  & used & (Mb) & gc trigger & (Mb) & max used & (Mb)\\\\\n",
       "\\hline\n",
       "\tNcells & 519207  & 27.8    & 1162288 & 62.1    &  642320 & 34.4   \\\\\n",
       "\tVcells & 985562  &  7.6    & 8388608 & 64.0    & 1774274 & 13.6   \\\\\n",
       "\\end{tabular}\n"
      ],
      "text/markdown": [
       "\n",
       "| <!--/--> | used | (Mb) | gc trigger | (Mb) | max used | (Mb) |\n",
       "|---|---|---|---|---|---|---|\n",
       "| Ncells | 519207  | 27.8    | 1162288 | 62.1    |  642320 | 34.4    |\n",
       "| Vcells | 985562  |  7.6    | 8388608 | 64.0    | 1774274 | 13.6    |\n",
       "\n"
      ],
      "text/plain": [
       "       used   (Mb) gc trigger (Mb) max used (Mb)\n",
       "Ncells 519207 27.8 1162288    62.1  642320  34.4\n",
       "Vcells 985562  7.6 8388608    64.0 1774274  13.6"
      ]
     },
     "metadata": {},
     "output_type": "display_data"
    }
   ],
   "source": [
    "gc()\n",
    "\n",
    "#設定工作目錄\n",
    "setwd(\"/Users/huangyiling/GitHub/EB101_TeamSpade_project/people_Model\")"
   ]
  },
  {
   "cell_type": "code",
   "execution_count": 2,
   "metadata": {},
   "outputs": [],
   "source": [
    "#安裝必要套件\n",
    "# install.packages(\"FactoMineR\")\n",
    "# install.packages(\"factoextra\")"
   ]
  },
  {
   "cell_type": "code",
   "execution_count": 3,
   "metadata": {},
   "outputs": [
    {
     "name": "stderr",
     "output_type": "stream",
     "text": [
      "Loading required package: ggplot2\n",
      "Welcome! Want to learn more? See two factoextra-related books at https://goo.gl/ve3WBa\n"
     ]
    }
   ],
   "source": [
    "# 載入必要 R 套件\n",
    "library(factoextra)\n",
    "library(FactoMineR)"
   ]
  },
  {
   "cell_type": "code",
   "execution_count": 4,
   "metadata": {},
   "outputs": [
    {
     "data": {
      "text/html": [
       "<table>\n",
       "<thead><tr><th scope=col>X.1</th><th scope=col>X</th><th scope=col>Sex</th><th scope=col>Age</th><th scope=col>Height</th><th scope=col>Weight</th><th scope=col>BMI</th><th scope=col>Axis1</th><th scope=col>Axis2</th><th scope=col>Axis3</th><th scope=col>Axis4</th><th scope=col>Axis5</th><th scope=col>Axis6</th></tr></thead>\n",
       "<tbody>\n",
       "\t<tr><td>1         </td><td>1         </td><td>0         </td><td>19        </td><td>140       </td><td>31.4      </td><td>16        </td><td>8.288972  </td><td>1.1766257 </td><td>1.641035  </td><td>-1.479860 </td><td>-1.092101 </td><td>-0.4957447</td></tr>\n",
       "\t<tr><td>2         </td><td>2         </td><td>0         </td><td>19        </td><td>141       </td><td>31.8      </td><td>16        </td><td>8.156877  </td><td>1.1244301 </td><td>1.662965  </td><td>-1.402489 </td><td>-1.087957 </td><td>-0.4960440</td></tr>\n",
       "\t<tr><td>3         </td><td>3         </td><td>0         </td><td>19        </td><td>142       </td><td>32.3      </td><td>16        </td><td>8.022865  </td><td>1.0711867 </td><td>1.684411  </td><td>-1.325642 </td><td>-1.084925 </td><td>-0.4966775</td></tr>\n",
       "\t<tr><td>4         </td><td>4         </td><td>0         </td><td>19        </td><td>143       </td><td>32.7      </td><td>16        </td><td>7.889885  </td><td>1.0185680 </td><td>1.706436  </td><td>-1.248063 </td><td>-1.080481 </td><td>-0.4968717</td></tr>\n",
       "\t<tr><td>5         </td><td>5         </td><td>0         </td><td>19        </td><td>144       </td><td>33.2      </td><td>16        </td><td>7.755005  </td><td>0.9649095 </td><td>1.727973  </td><td>-1.171015 </td><td>-1.077160 </td><td>-0.4974037</td></tr>\n",
       "\t<tr><td>6         </td><td>6         </td><td>0         </td><td>19        </td><td>145       </td><td>33.6      </td><td>16        </td><td>7.621174  </td><td>0.9118839 </td><td>1.750086  </td><td>-1.093243 </td><td>-1.072439 </td><td>-0.4975001</td></tr>\n",
       "</tbody>\n",
       "</table>\n"
      ],
      "text/latex": [
       "\\begin{tabular}{r|lllllllllllll}\n",
       " X.1 & X & Sex & Age & Height & Weight & BMI & Axis1 & Axis2 & Axis3 & Axis4 & Axis5 & Axis6\\\\\n",
       "\\hline\n",
       "\t 1          & 1          & 0          & 19         & 140        & 31.4       & 16         & 8.288972   & 1.1766257  & 1.641035   & -1.479860  & -1.092101  & -0.4957447\\\\\n",
       "\t 2          & 2          & 0          & 19         & 141        & 31.8       & 16         & 8.156877   & 1.1244301  & 1.662965   & -1.402489  & -1.087957  & -0.4960440\\\\\n",
       "\t 3          & 3          & 0          & 19         & 142        & 32.3       & 16         & 8.022865   & 1.0711867  & 1.684411   & -1.325642  & -1.084925  & -0.4966775\\\\\n",
       "\t 4          & 4          & 0          & 19         & 143        & 32.7       & 16         & 7.889885   & 1.0185680  & 1.706436   & -1.248063  & -1.080481  & -0.4968717\\\\\n",
       "\t 5          & 5          & 0          & 19         & 144        & 33.2       & 16         & 7.755005   & 0.9649095  & 1.727973   & -1.171015  & -1.077160  & -0.4974037\\\\\n",
       "\t 6          & 6          & 0          & 19         & 145        & 33.6       & 16         & 7.621174   & 0.9118839  & 1.750086   & -1.093243  & -1.072439  & -0.4975001\\\\\n",
       "\\end{tabular}\n"
      ],
      "text/markdown": [
       "\n",
       "| X.1 | X | Sex | Age | Height | Weight | BMI | Axis1 | Axis2 | Axis3 | Axis4 | Axis5 | Axis6 |\n",
       "|---|---|---|---|---|---|---|---|---|---|---|---|---|\n",
       "| 1          | 1          | 0          | 19         | 140        | 31.4       | 16         | 8.288972   | 1.1766257  | 1.641035   | -1.479860  | -1.092101  | -0.4957447 |\n",
       "| 2          | 2          | 0          | 19         | 141        | 31.8       | 16         | 8.156877   | 1.1244301  | 1.662965   | -1.402489  | -1.087957  | -0.4960440 |\n",
       "| 3          | 3          | 0          | 19         | 142        | 32.3       | 16         | 8.022865   | 1.0711867  | 1.684411   | -1.325642  | -1.084925  | -0.4966775 |\n",
       "| 4          | 4          | 0          | 19         | 143        | 32.7       | 16         | 7.889885   | 1.0185680  | 1.706436   | -1.248063  | -1.080481  | -0.4968717 |\n",
       "| 5          | 5          | 0          | 19         | 144        | 33.2       | 16         | 7.755005   | 0.9649095  | 1.727973   | -1.171015  | -1.077160  | -0.4974037 |\n",
       "| 6          | 6          | 0          | 19         | 145        | 33.6       | 16         | 7.621174   | 0.9118839  | 1.750086   | -1.093243  | -1.072439  | -0.4975001 |\n",
       "\n"
      ],
      "text/plain": [
       "  X.1 X Sex Age Height Weight BMI Axis1    Axis2     Axis3    Axis4    \n",
       "1 1   1 0   19  140    31.4   16  8.288972 1.1766257 1.641035 -1.479860\n",
       "2 2   2 0   19  141    31.8   16  8.156877 1.1244301 1.662965 -1.402489\n",
       "3 3   3 0   19  142    32.3   16  8.022865 1.0711867 1.684411 -1.325642\n",
       "4 4   4 0   19  143    32.7   16  7.889885 1.0185680 1.706436 -1.248063\n",
       "5 5   5 0   19  144    33.2   16  7.755005 0.9649095 1.727973 -1.171015\n",
       "6 6   6 0   19  145    33.6   16  7.621174 0.9118839 1.750086 -1.093243\n",
       "  Axis5     Axis6     \n",
       "1 -1.092101 -0.4957447\n",
       "2 -1.087957 -0.4960440\n",
       "3 -1.084925 -0.4966775\n",
       "4 -1.080481 -0.4968717\n",
       "5 -1.077160 -0.4974037\n",
       "6 -1.072439 -0.4975001"
      ]
     },
     "metadata": {},
     "output_type": "display_data"
    }
   ],
   "source": [
    "data<-read.csv(\"peopleSample_combind.csv\")\n",
    "head(data)"
   ]
  },
  {
   "cell_type": "code",
   "execution_count": 5,
   "metadata": {},
   "outputs": [
    {
     "data": {
      "text/html": [
       "0"
      ],
      "text/latex": [
       "0"
      ],
      "text/markdown": [
       "0"
      ],
      "text/plain": [
       "[1] 0"
      ]
     },
     "metadata": {},
     "output_type": "display_data"
    }
   ],
   "source": [
    "sum(is.na(data$Ozone))"
   ]
  },
  {
   "cell_type": "code",
   "execution_count": 6,
   "metadata": {},
   "outputs": [],
   "source": [
    "E.dist <- dist(data, method=\"euclidean\") # 歐式距離"
   ]
  },
  {
   "cell_type": "code",
   "execution_count": 8,
   "metadata": {},
   "outputs": [
    {
     "ename": "ERROR",
     "evalue": "Error in E.dist$Ozone: $ operator is invalid for atomic vectors\n",
     "output_type": "error",
     "traceback": [
      "Error in E.dist$Ozone: $ operator is invalid for atomic vectors\nTraceback:\n"
     ]
    }
   ],
   "source": [
    "sum(is.na(E.dist$Ozone))"
   ]
  },
  {
   "cell_type": "code",
   "execution_count": 7,
   "metadata": {},
   "outputs": [
    {
     "ename": "ERROR",
     "evalue": "Error in hclust(E.dist): size cannot be NA nor exceed 65536\n",
     "output_type": "error",
     "traceback": [
      "Error in hclust(E.dist): size cannot be NA nor exceed 65536\nTraceback:\n",
      "1. hclust(E.dist)",
      "2. stop(\"size cannot be NA nor exceed 65536\")"
     ]
    }
   ],
   "source": [
    "par(mfrow=c(1,2)) # 讓圖片以1x2的方式呈現，詳情請見(4)繪圖-資料視覺化\n",
    "\n",
    "# 使用歐式距離進行分群\n",
    "h.E.cluster <- hclust(E.dist)\n",
    "plot(h.E.cluster, xlab=\"歐式距離\")"
   ]
  },
  {
   "cell_type": "code",
   "execution_count": null,
   "metadata": {},
   "outputs": [],
   "source": [
    "# 歐式距離 最近法\n",
    "hclust(E.dist, method=\"single\")\n",
    "# 視覺化\n",
    "plot(h.cluster)\n",
    "abline(h=9, col=\"red\")"
   ]
  },
  {
   "cell_type": "code",
   "execution_count": null,
   "metadata": {},
   "outputs": [],
   "source": [
    "# 歐式距離 最遠法\n",
    "hclust(E.dist, method=\"complete\")\n",
    "# 視覺化\n",
    "plot(h.cluster)\n",
    "abline(h=9, col=\"red\")"
   ]
  },
  {
   "cell_type": "code",
   "execution_count": null,
   "metadata": {},
   "outputs": [],
   "source": [
    "# 歐式距離 平均法\n",
    "hclust(E.dist, method=\"average\")\n",
    "# 視覺化\n",
    "plot(h.cluster)\n",
    "abline(h=9, col=\"red\")"
   ]
  },
  {
   "cell_type": "code",
   "execution_count": null,
   "metadata": {},
   "outputs": [],
   "source": [
    "# 歐式距離 中心法\n",
    "hclust(E.dist, method=\"centroid\")\n",
    "# 視覺化\n",
    "plot(h.cluster)\n",
    "abline(h=9, col=\"red\")"
   ]
  },
  {
   "cell_type": "code",
   "execution_count": null,
   "metadata": {},
   "outputs": [],
   "source": [
    "# 歐式距離 華德法\n",
    "hclust(E.dist, method=\"ward.D2\")\n",
    "# 視覺化\n",
    "plot(h.cluster)\n",
    "abline(h=9, col=\"red\")"
   ]
  },
  {
   "cell_type": "code",
   "execution_count": null,
   "metadata": {},
   "outputs": [],
   "source": [
    "# M.dist <- dist(data, method=\"manhattan\") # 曼哈頓距離"
   ]
  },
  {
   "cell_type": "code",
   "execution_count": null,
   "metadata": {},
   "outputs": [],
   "source": [
    "# par(mfrow=c(1,2)) # 讓圖片以1x2的方式呈現，詳情請見(4)繪圖-資料視覺化\n",
    "\n",
    "# # 使用曼哈頓距離進行分群\n",
    "# h.M.cluster <- hclust(M.dist) \n",
    "# plot(h.M.cluster, xlab=\"曼哈頓距離\")"
   ]
  },
  {
   "cell_type": "code",
   "execution_count": null,
   "metadata": {},
   "outputs": [],
   "source": []
  },
  {
   "cell_type": "code",
   "execution_count": null,
   "metadata": {},
   "outputs": [],
   "source": []
  },
  {
   "cell_type": "code",
   "execution_count": null,
   "metadata": {},
   "outputs": [],
   "source": []
  },
  {
   "cell_type": "code",
   "execution_count": null,
   "metadata": {},
   "outputs": [],
   "source": []
  },
  {
   "cell_type": "code",
   "execution_count": null,
   "metadata": {},
   "outputs": [],
   "source": []
  },
  {
   "cell_type": "code",
   "execution_count": null,
   "metadata": {},
   "outputs": [],
   "source": []
  },
  {
   "cell_type": "code",
   "execution_count": null,
   "metadata": {},
   "outputs": [],
   "source": []
  },
  {
   "cell_type": "code",
   "execution_count": null,
   "metadata": {},
   "outputs": [],
   "source": [
    "# HCPC 函數用法\n",
    "# HCPC(res, nb.clust = 0, min = 3, max = NULL, graph = TRUE)"
   ]
  },
  {
   "cell_type": "code",
   "execution_count": null,
   "metadata": {},
   "outputs": [],
   "source": [
    "# 查看資料結構\n",
    "# str(USArrests)"
   ]
  },
  {
   "cell_type": "code",
   "execution_count": null,
   "metadata": {},
   "outputs": [],
   "source": [
    "# 主成分分析\n",
    "# res.pca <- PCA(USArrests, ncp = 3, graph = FALSE)"
   ]
  },
  {
   "cell_type": "code",
   "execution_count": null,
   "metadata": {},
   "outputs": [],
   "source": [
    "# 繪製主成分分析相關圖形\n",
    "# plot(res.pca, choix = \"ind\")\n",
    "# plot(res.pca, choix = \"var\")\n",
    "# plot(res.pca, choix = \"varcor\") # 當 scale.unit=FALSE 時使用"
   ]
  },
  {
   "cell_type": "code",
   "execution_count": null,
   "metadata": {},
   "outputs": [],
   "source": [
    "# HCPC 分析\n",
    "# res.hcpc <- HCPC(res.pca, graph = FALSE)"
   ]
  },
  {
   "cell_type": "code",
   "execution_count": null,
   "metadata": {},
   "outputs": [],
   "source": [
    "# 樹狀圖\n",
    "# fviz_dend(res.hcpc,\n",
    "#           cex = 0.7,                     # 文字大小\n",
    "#           palette = \"jco\",               # 文字配色（可參考 ?ggpubr::ggpar）\n",
    "#           rect = TRUE, rect_fill = TRUE, # 加入分群標示方框\n",
    "#           rect_border = \"jco\",           # 方框配色\n",
    "#           labels_track_height = 0.8)     # 文字顯示空間"
   ]
  },
  {
   "cell_type": "code",
   "execution_count": null,
   "metadata": {},
   "outputs": [],
   "source": [
    "# 群聚圖\n",
    "# fviz_cluster(res.hcpc,\n",
    "#              repel = TRUE,              # 避免文字重疊\n",
    "#              show.clust.cent = TRUE,    # 顯示各群中心點\n",
    "#              palette = \"jco\")           # 文字配色（可參考 ?ggpubr::ggpar）"
   ]
  },
  {
   "cell_type": "code",
   "execution_count": null,
   "metadata": {},
   "outputs": [],
   "source": [
    "# 樹狀圖與群聚圖合併\n",
    "# plot(res.hcpc, choice = \"3D.map\")"
   ]
  },
  {
   "cell_type": "code",
   "execution_count": null,
   "metadata": {},
   "outputs": [],
   "source": [
    "# 原始資料加上分群結\n",
    "# head(res.hcpc$data.clust)"
   ]
  },
  {
   "cell_type": "code",
   "execution_count": null,
   "metadata": {},
   "outputs": [],
   "source": [
    "# 變數相關的分群資訊\n",
    "# res.hcpc$desc.var$quanti\n"
   ]
  },
  {
   "cell_type": "code",
   "execution_count": null,
   "metadata": {},
   "outputs": [],
   "source": [
    "# 主成分座標軸相關的分群資訊\n",
    "# res.hcpc$desc.axes$quanti"
   ]
  },
  {
   "cell_type": "code",
   "execution_count": null,
   "metadata": {},
   "outputs": [],
   "source": [
    "# 最接近群聚中心的幾個個體\n",
    "# res.hcpc$desc.ind$para"
   ]
  },
  {
   "cell_type": "code",
   "execution_count": null,
   "metadata": {},
   "outputs": [],
   "source": [
    "# 最遠離群聚中心的幾個個體\n",
    "# res.hcpc$desc.ind$dist"
   ]
  },
  {
   "cell_type": "code",
   "execution_count": null,
   "metadata": {},
   "outputs": [],
   "source": []
  },
  {
   "cell_type": "code",
   "execution_count": null,
   "metadata": {},
   "outputs": [],
   "source": []
  },
  {
   "cell_type": "code",
   "execution_count": null,
   "metadata": {},
   "outputs": [],
   "source": []
  },
  {
   "cell_type": "code",
   "execution_count": null,
   "metadata": {},
   "outputs": [],
   "source": []
  },
  {
   "cell_type": "code",
   "execution_count": null,
   "metadata": {},
   "outputs": [],
   "source": []
  },
  {
   "cell_type": "code",
   "execution_count": null,
   "metadata": {},
   "outputs": [],
   "source": []
  }
 ],
 "metadata": {
  "kernelspec": {
   "display_name": "R",
   "language": "R",
   "name": "ir"
  },
  "language_info": {
   "codemirror_mode": "r",
   "file_extension": ".r",
   "mimetype": "text/x-r-source",
   "name": "R",
   "pygments_lexer": "r",
   "version": "3.6.1"
  }
 },
 "nbformat": 4,
 "nbformat_minor": 4
}
