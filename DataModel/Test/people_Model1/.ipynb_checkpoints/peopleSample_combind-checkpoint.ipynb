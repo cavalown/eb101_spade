{
 "cells": [
  {
   "cell_type": "code",
   "execution_count": 1,
   "metadata": {},
   "outputs": [
    {
     "data": {
      "text/html": [
       "<table>\n",
       "<thead><tr><th scope=col>X</th><th scope=col>Sex</th><th scope=col>Age</th><th scope=col>Height</th><th scope=col>Weight</th><th scope=col>BMI</th><th scope=col>Calories</th><th scope=col>Moisture</th><th scope=col>Protein</th><th scope=col>Saturated_fat</th><th scope=col>...</th><th scope=col>Zn</th><th scope=col>P</th><th scope=col>VitaminA</th><th scope=col>VitaminE</th><th scope=col>VitaminB_group</th><th scope=col>VitaminC</th><th scope=col>Fatty_acid_S</th><th scope=col>Fatty_acid_M</th><th scope=col>Fatty_acid_P</th><th scope=col>Cholesterol</th></tr></thead>\n",
       "<tbody>\n",
       "\t<tr><td>0       </td><td>0       </td><td>19      </td><td>140     </td><td>31.4    </td><td>16      </td><td>1406.936</td><td> 940.800</td><td>34.49600</td><td>140.6936</td><td>...     </td><td>12      </td><td>800     </td><td>500     </td><td>12      </td><td>20.59   </td><td>100     </td><td>140.6936</td><td>84.41614</td><td>12.66242</td><td>300     </td></tr>\n",
       "\t<tr><td>1       </td><td>0       </td><td>19      </td><td>141     </td><td>31.8    </td><td>16      </td><td>1425.467</td><td> 954.288</td><td>34.99056</td><td>142.5467</td><td>...     </td><td>12      </td><td>800     </td><td>500     </td><td>12      </td><td>20.59   </td><td>100     </td><td>142.5467</td><td>85.52800</td><td>12.82920</td><td>300     </td></tr>\n",
       "\t<tr><td>2       </td><td>0       </td><td>19      </td><td>142     </td><td>32.3    </td><td>16      </td><td>1444.066</td><td> 967.872</td><td>35.48864</td><td>144.4066</td><td>...     </td><td>12      </td><td>800     </td><td>500     </td><td>12      </td><td>20.59   </td><td>100     </td><td>144.4066</td><td>86.64397</td><td>12.99660</td><td>300     </td></tr>\n",
       "\t<tr><td>3       </td><td>0       </td><td>19      </td><td>143     </td><td>32.7    </td><td>16      </td><td>1462.733</td><td> 981.552</td><td>35.99024</td><td>146.2733</td><td>...     </td><td>12      </td><td>800     </td><td>500     </td><td>12      </td><td>20.59   </td><td>100     </td><td>146.2733</td><td>87.76395</td><td>13.16459</td><td>300     </td></tr>\n",
       "\t<tr><td>4       </td><td>0       </td><td>19      </td><td>144     </td><td>33.2    </td><td>16      </td><td>1481.464</td><td> 995.328</td><td>36.49536</td><td>148.1464</td><td>...     </td><td>12      </td><td>800     </td><td>500     </td><td>12      </td><td>20.59   </td><td>100     </td><td>148.1464</td><td>88.88783</td><td>13.33318</td><td>300     </td></tr>\n",
       "\t<tr><td>5       </td><td>0       </td><td>19      </td><td>145     </td><td>33.6    </td><td>16      </td><td>1500.259</td><td>1009.200</td><td>37.00400</td><td>150.0259</td><td>...     </td><td>12      </td><td>800     </td><td>500     </td><td>12      </td><td>20.59   </td><td>100     </td><td>150.0259</td><td>90.01552</td><td>13.50233</td><td>300     </td></tr>\n",
       "</tbody>\n",
       "</table>\n"
      ],
      "text/latex": [
       "\\begin{tabular}{r|lllllllllllllllllllllllllll}\n",
       " X & Sex & Age & Height & Weight & BMI & Calories & Moisture & Protein & Saturated\\_fat & ... & Zn & P & VitaminA & VitaminE & VitaminB\\_group & VitaminC & Fatty\\_acid\\_S & Fatty\\_acid\\_M & Fatty\\_acid\\_P & Cholesterol\\\\\n",
       "\\hline\n",
       "\t 0        & 0        & 19       & 140      & 31.4     & 16       & 1406.936 &  940.800 & 34.49600 & 140.6936 & ...      & 12       & 800      & 500      & 12       & 20.59    & 100      & 140.6936 & 84.41614 & 12.66242 & 300     \\\\\n",
       "\t 1        & 0        & 19       & 141      & 31.8     & 16       & 1425.467 &  954.288 & 34.99056 & 142.5467 & ...      & 12       & 800      & 500      & 12       & 20.59    & 100      & 142.5467 & 85.52800 & 12.82920 & 300     \\\\\n",
       "\t 2        & 0        & 19       & 142      & 32.3     & 16       & 1444.066 &  967.872 & 35.48864 & 144.4066 & ...      & 12       & 800      & 500      & 12       & 20.59    & 100      & 144.4066 & 86.64397 & 12.99660 & 300     \\\\\n",
       "\t 3        & 0        & 19       & 143      & 32.7     & 16       & 1462.733 &  981.552 & 35.99024 & 146.2733 & ...      & 12       & 800      & 500      & 12       & 20.59    & 100      & 146.2733 & 87.76395 & 13.16459 & 300     \\\\\n",
       "\t 4        & 0        & 19       & 144      & 33.2     & 16       & 1481.464 &  995.328 & 36.49536 & 148.1464 & ...      & 12       & 800      & 500      & 12       & 20.59    & 100      & 148.1464 & 88.88783 & 13.33318 & 300     \\\\\n",
       "\t 5        & 0        & 19       & 145      & 33.6     & 16       & 1500.259 & 1009.200 & 37.00400 & 150.0259 & ...      & 12       & 800      & 500      & 12       & 20.59    & 100      & 150.0259 & 90.01552 & 13.50233 & 300     \\\\\n",
       "\\end{tabular}\n"
      ],
      "text/markdown": [
       "\n",
       "| X | Sex | Age | Height | Weight | BMI | Calories | Moisture | Protein | Saturated_fat | ... | Zn | P | VitaminA | VitaminE | VitaminB_group | VitaminC | Fatty_acid_S | Fatty_acid_M | Fatty_acid_P | Cholesterol |\n",
       "|---|---|---|---|---|---|---|---|---|---|---|---|---|---|---|---|---|---|---|---|---|\n",
       "| 0        | 0        | 19       | 140      | 31.4     | 16       | 1406.936 |  940.800 | 34.49600 | 140.6936 | ...      | 12       | 800      | 500      | 12       | 20.59    | 100      | 140.6936 | 84.41614 | 12.66242 | 300      |\n",
       "| 1        | 0        | 19       | 141      | 31.8     | 16       | 1425.467 |  954.288 | 34.99056 | 142.5467 | ...      | 12       | 800      | 500      | 12       | 20.59    | 100      | 142.5467 | 85.52800 | 12.82920 | 300      |\n",
       "| 2        | 0        | 19       | 142      | 32.3     | 16       | 1444.066 |  967.872 | 35.48864 | 144.4066 | ...      | 12       | 800      | 500      | 12       | 20.59    | 100      | 144.4066 | 86.64397 | 12.99660 | 300      |\n",
       "| 3        | 0        | 19       | 143      | 32.7     | 16       | 1462.733 |  981.552 | 35.99024 | 146.2733 | ...      | 12       | 800      | 500      | 12       | 20.59    | 100      | 146.2733 | 87.76395 | 13.16459 | 300      |\n",
       "| 4        | 0        | 19       | 144      | 33.2     | 16       | 1481.464 |  995.328 | 36.49536 | 148.1464 | ...      | 12       | 800      | 500      | 12       | 20.59    | 100      | 148.1464 | 88.88783 | 13.33318 | 300      |\n",
       "| 5        | 0        | 19       | 145      | 33.6     | 16       | 1500.259 | 1009.200 | 37.00400 | 150.0259 | ...      | 12       | 800      | 500      | 12       | 20.59    | 100      | 150.0259 | 90.01552 | 13.50233 | 300      |\n",
       "\n"
      ],
      "text/plain": [
       "  X Sex Age Height Weight BMI Calories Moisture Protein  Saturated_fat ... Zn\n",
       "1 0 0   19  140    31.4   16  1406.936  940.800 34.49600 140.6936      ... 12\n",
       "2 1 0   19  141    31.8   16  1425.467  954.288 34.99056 142.5467      ... 12\n",
       "3 2 0   19  142    32.3   16  1444.066  967.872 35.48864 144.4066      ... 12\n",
       "4 3 0   19  143    32.7   16  1462.733  981.552 35.99024 146.2733      ... 12\n",
       "5 4 0   19  144    33.2   16  1481.464  995.328 36.49536 148.1464      ... 12\n",
       "6 5 0   19  145    33.6   16  1500.259 1009.200 37.00400 150.0259      ... 12\n",
       "  P   VitaminA VitaminE VitaminB_group VitaminC Fatty_acid_S Fatty_acid_M\n",
       "1 800 500      12       20.59          100      140.6936     84.41614    \n",
       "2 800 500      12       20.59          100      142.5467     85.52800    \n",
       "3 800 500      12       20.59          100      144.4066     86.64397    \n",
       "4 800 500      12       20.59          100      146.2733     87.76395    \n",
       "5 800 500      12       20.59          100      148.1464     88.88783    \n",
       "6 800 500      12       20.59          100      150.0259     90.01552    \n",
       "  Fatty_acid_P Cholesterol\n",
       "1 12.66242     300        \n",
       "2 12.82920     300        \n",
       "3 12.99660     300        \n",
       "4 13.16459     300        \n",
       "5 13.33318     300        \n",
       "6 13.50233     300        "
      ]
     },
     "metadata": {},
     "output_type": "display_data"
    }
   ],
   "source": [
    "data_1<-read.csv('peopleSample.csv')\n",
    "head(data_1)"
   ]
  },
  {
   "cell_type": "code",
   "execution_count": 2,
   "metadata": {},
   "outputs": [
    {
     "data": {
      "text/html": [
       "<table>\n",
       "<thead><tr><th scope=col>Sex</th><th scope=col>Age</th><th scope=col>Height</th><th scope=col>Weight</th><th scope=col>BMI</th></tr></thead>\n",
       "<tbody>\n",
       "\t<tr><td>0   </td><td>19  </td><td>140 </td><td>31.4</td><td>16  </td></tr>\n",
       "\t<tr><td>0   </td><td>19  </td><td>141 </td><td>31.8</td><td>16  </td></tr>\n",
       "\t<tr><td>0   </td><td>19  </td><td>142 </td><td>32.3</td><td>16  </td></tr>\n",
       "\t<tr><td>0   </td><td>19  </td><td>143 </td><td>32.7</td><td>16  </td></tr>\n",
       "\t<tr><td>0   </td><td>19  </td><td>144 </td><td>33.2</td><td>16  </td></tr>\n",
       "\t<tr><td>0   </td><td>19  </td><td>145 </td><td>33.6</td><td>16  </td></tr>\n",
       "</tbody>\n",
       "</table>\n"
      ],
      "text/latex": [
       "\\begin{tabular}{r|lllll}\n",
       " Sex & Age & Height & Weight & BMI\\\\\n",
       "\\hline\n",
       "\t 0    & 19   & 140  & 31.4 & 16  \\\\\n",
       "\t 0    & 19   & 141  & 31.8 & 16  \\\\\n",
       "\t 0    & 19   & 142  & 32.3 & 16  \\\\\n",
       "\t 0    & 19   & 143  & 32.7 & 16  \\\\\n",
       "\t 0    & 19   & 144  & 33.2 & 16  \\\\\n",
       "\t 0    & 19   & 145  & 33.6 & 16  \\\\\n",
       "\\end{tabular}\n"
      ],
      "text/markdown": [
       "\n",
       "| Sex | Age | Height | Weight | BMI |\n",
       "|---|---|---|---|---|\n",
       "| 0    | 19   | 140  | 31.4 | 16   |\n",
       "| 0    | 19   | 141  | 31.8 | 16   |\n",
       "| 0    | 19   | 142  | 32.3 | 16   |\n",
       "| 0    | 19   | 143  | 32.7 | 16   |\n",
       "| 0    | 19   | 144  | 33.2 | 16   |\n",
       "| 0    | 19   | 145  | 33.6 | 16   |\n",
       "\n"
      ],
      "text/plain": [
       "  Sex Age Height Weight BMI\n",
       "1 0   19  140    31.4   16 \n",
       "2 0   19  141    31.8   16 \n",
       "3 0   19  142    32.3   16 \n",
       "4 0   19  143    32.7   16 \n",
       "5 0   19  144    33.2   16 \n",
       "6 0   19  145    33.6   16 "
      ]
     },
     "metadata": {},
     "output_type": "display_data"
    }
   ],
   "source": [
    "data_1_select<-data_1[c(2,3,4,5,6)]\n",
    "head(data_1_select)"
   ]
  },
  {
   "cell_type": "code",
   "execution_count": 3,
   "metadata": {},
   "outputs": [
    {
     "data": {
      "text/html": [
       "<table>\n",
       "<thead><tr><th scope=col>X</th><th scope=col>Axis1</th><th scope=col>Axis2</th><th scope=col>Axis3</th><th scope=col>Axis4</th><th scope=col>Axis5</th><th scope=col>Axis6</th></tr></thead>\n",
       "<tbody>\n",
       "\t<tr><td>1         </td><td>8.288972  </td><td>1.1766257 </td><td>1.641035  </td><td>-1.479860 </td><td>-1.092101 </td><td>-0.4957447</td></tr>\n",
       "\t<tr><td>2         </td><td>8.156877  </td><td>1.1244301 </td><td>1.662965  </td><td>-1.402489 </td><td>-1.087957 </td><td>-0.4960440</td></tr>\n",
       "\t<tr><td>3         </td><td>8.022865  </td><td>1.0711867 </td><td>1.684411  </td><td>-1.325642 </td><td>-1.084925 </td><td>-0.4966775</td></tr>\n",
       "\t<tr><td>4         </td><td>7.889885  </td><td>1.0185680 </td><td>1.706436  </td><td>-1.248063 </td><td>-1.080481 </td><td>-0.4968717</td></tr>\n",
       "\t<tr><td>5         </td><td>7.755005  </td><td>0.9649095 </td><td>1.727973  </td><td>-1.171015 </td><td>-1.077160 </td><td>-0.4974037</td></tr>\n",
       "\t<tr><td>6         </td><td>7.621174  </td><td>0.9118839 </td><td>1.750086  </td><td>-1.093243 </td><td>-1.072439 </td><td>-0.4975001</td></tr>\n",
       "</tbody>\n",
       "</table>\n"
      ],
      "text/latex": [
       "\\begin{tabular}{r|lllllll}\n",
       " X & Axis1 & Axis2 & Axis3 & Axis4 & Axis5 & Axis6\\\\\n",
       "\\hline\n",
       "\t 1          & 8.288972   & 1.1766257  & 1.641035   & -1.479860  & -1.092101  & -0.4957447\\\\\n",
       "\t 2          & 8.156877   & 1.1244301  & 1.662965   & -1.402489  & -1.087957  & -0.4960440\\\\\n",
       "\t 3          & 8.022865   & 1.0711867  & 1.684411   & -1.325642  & -1.084925  & -0.4966775\\\\\n",
       "\t 4          & 7.889885   & 1.0185680  & 1.706436   & -1.248063  & -1.080481  & -0.4968717\\\\\n",
       "\t 5          & 7.755005   & 0.9649095  & 1.727973   & -1.171015  & -1.077160  & -0.4974037\\\\\n",
       "\t 6          & 7.621174   & 0.9118839  & 1.750086   & -1.093243  & -1.072439  & -0.4975001\\\\\n",
       "\\end{tabular}\n"
      ],
      "text/markdown": [
       "\n",
       "| X | Axis1 | Axis2 | Axis3 | Axis4 | Axis5 | Axis6 |\n",
       "|---|---|---|---|---|---|---|\n",
       "| 1          | 8.288972   | 1.1766257  | 1.641035   | -1.479860  | -1.092101  | -0.4957447 |\n",
       "| 2          | 8.156877   | 1.1244301  | 1.662965   | -1.402489  | -1.087957  | -0.4960440 |\n",
       "| 3          | 8.022865   | 1.0711867  | 1.684411   | -1.325642  | -1.084925  | -0.4966775 |\n",
       "| 4          | 7.889885   | 1.0185680  | 1.706436   | -1.248063  | -1.080481  | -0.4968717 |\n",
       "| 5          | 7.755005   | 0.9649095  | 1.727973   | -1.171015  | -1.077160  | -0.4974037 |\n",
       "| 6          | 7.621174   | 0.9118839  | 1.750086   | -1.093243  | -1.072439  | -0.4975001 |\n",
       "\n"
      ],
      "text/plain": [
       "  X Axis1    Axis2     Axis3    Axis4     Axis5     Axis6     \n",
       "1 1 8.288972 1.1766257 1.641035 -1.479860 -1.092101 -0.4957447\n",
       "2 2 8.156877 1.1244301 1.662965 -1.402489 -1.087957 -0.4960440\n",
       "3 3 8.022865 1.0711867 1.684411 -1.325642 -1.084925 -0.4966775\n",
       "4 4 7.889885 1.0185680 1.706436 -1.248063 -1.080481 -0.4968717\n",
       "5 5 7.755005 0.9649095 1.727973 -1.171015 -1.077160 -0.4974037\n",
       "6 6 7.621174 0.9118839 1.750086 -1.093243 -1.072439 -0.4975001"
      ]
     },
     "metadata": {},
     "output_type": "display_data"
    }
   ],
   "source": [
    "data_2<-read.csv('peopleSample_new.csv')\n",
    "head(data_2)"
   ]
  },
  {
   "cell_type": "code",
   "execution_count": 4,
   "metadata": {},
   "outputs": [
    {
     "data": {
      "text/html": [
       "<table>\n",
       "<thead><tr><th scope=col>X</th></tr></thead>\n",
       "<tbody>\n",
       "\t<tr><td>1</td></tr>\n",
       "\t<tr><td>2</td></tr>\n",
       "\t<tr><td>3</td></tr>\n",
       "\t<tr><td>4</td></tr>\n",
       "\t<tr><td>5</td></tr>\n",
       "\t<tr><td>6</td></tr>\n",
       "</tbody>\n",
       "</table>\n"
      ],
      "text/latex": [
       "\\begin{tabular}{r|l}\n",
       " X\\\\\n",
       "\\hline\n",
       "\t 1\\\\\n",
       "\t 2\\\\\n",
       "\t 3\\\\\n",
       "\t 4\\\\\n",
       "\t 5\\\\\n",
       "\t 6\\\\\n",
       "\\end{tabular}\n"
      ],
      "text/markdown": [
       "\n",
       "| X |\n",
       "|---|\n",
       "| 1 |\n",
       "| 2 |\n",
       "| 3 |\n",
       "| 4 |\n",
       "| 5 |\n",
       "| 6 |\n",
       "\n"
      ],
      "text/plain": [
       "  X\n",
       "1 1\n",
       "2 2\n",
       "3 3\n",
       "4 4\n",
       "5 5\n",
       "6 6"
      ]
     },
     "metadata": {},
     "output_type": "display_data"
    }
   ],
   "source": [
    "data_index<-data_2[1]\n",
    "head(data_index)"
   ]
  },
  {
   "cell_type": "code",
   "execution_count": 5,
   "metadata": {},
   "outputs": [
    {
     "data": {
      "text/html": [
       "<table>\n",
       "<thead><tr><th scope=col>Sex</th><th scope=col>Age</th><th scope=col>Height</th><th scope=col>Weight</th><th scope=col>BMI</th></tr></thead>\n",
       "<tbody>\n",
       "\t<tr><td>0   </td><td>19  </td><td>140 </td><td>31.4</td><td>16  </td></tr>\n",
       "\t<tr><td>0   </td><td>19  </td><td>141 </td><td>31.8</td><td>16  </td></tr>\n",
       "\t<tr><td>0   </td><td>19  </td><td>142 </td><td>32.3</td><td>16  </td></tr>\n",
       "\t<tr><td>0   </td><td>19  </td><td>143 </td><td>32.7</td><td>16  </td></tr>\n",
       "\t<tr><td>0   </td><td>19  </td><td>144 </td><td>33.2</td><td>16  </td></tr>\n",
       "\t<tr><td>0   </td><td>19  </td><td>145 </td><td>33.6</td><td>16  </td></tr>\n",
       "</tbody>\n",
       "</table>\n"
      ],
      "text/latex": [
       "\\begin{tabular}{r|lllll}\n",
       " Sex & Age & Height & Weight & BMI\\\\\n",
       "\\hline\n",
       "\t 0    & 19   & 140  & 31.4 & 16  \\\\\n",
       "\t 0    & 19   & 141  & 31.8 & 16  \\\\\n",
       "\t 0    & 19   & 142  & 32.3 & 16  \\\\\n",
       "\t 0    & 19   & 143  & 32.7 & 16  \\\\\n",
       "\t 0    & 19   & 144  & 33.2 & 16  \\\\\n",
       "\t 0    & 19   & 145  & 33.6 & 16  \\\\\n",
       "\\end{tabular}\n"
      ],
      "text/markdown": [
       "\n",
       "| Sex | Age | Height | Weight | BMI |\n",
       "|---|---|---|---|---|\n",
       "| 0    | 19   | 140  | 31.4 | 16   |\n",
       "| 0    | 19   | 141  | 31.8 | 16   |\n",
       "| 0    | 19   | 142  | 32.3 | 16   |\n",
       "| 0    | 19   | 143  | 32.7 | 16   |\n",
       "| 0    | 19   | 144  | 33.2 | 16   |\n",
       "| 0    | 19   | 145  | 33.6 | 16   |\n",
       "\n"
      ],
      "text/plain": [
       "  Sex Age Height Weight BMI\n",
       "1 0   19  140    31.4   16 \n",
       "2 0   19  141    31.8   16 \n",
       "3 0   19  142    32.3   16 \n",
       "4 0   19  143    32.7   16 \n",
       "5 0   19  144    33.2   16 \n",
       "6 0   19  145    33.6   16 "
      ]
     },
     "metadata": {},
     "output_type": "display_data"
    }
   ],
   "source": [
    "data_2_select<-data_2[c(2,3,4,5,6,7)]\n",
    "head(data_1_select)"
   ]
  },
  {
   "cell_type": "code",
   "execution_count": 10,
   "metadata": {},
   "outputs": [
    {
     "data": {
      "text/html": [
       "<table>\n",
       "<thead><tr><th scope=col>X</th><th scope=col>Sex</th><th scope=col>Age</th><th scope=col>Height</th><th scope=col>Weight</th><th scope=col>BMI</th><th scope=col>Axis1</th><th scope=col>Axis2</th><th scope=col>Axis3</th><th scope=col>Axis4</th><th scope=col>Axis5</th><th scope=col>Axis6</th></tr></thead>\n",
       "<tbody>\n",
       "\t<tr><td>1         </td><td>0         </td><td>19        </td><td>140       </td><td>31.4      </td><td>16        </td><td>8.288972  </td><td>1.1766257 </td><td>1.641035  </td><td>-1.479860 </td><td>-1.092101 </td><td>-0.4957447</td></tr>\n",
       "\t<tr><td>2         </td><td>0         </td><td>19        </td><td>141       </td><td>31.8      </td><td>16        </td><td>8.156877  </td><td>1.1244301 </td><td>1.662965  </td><td>-1.402489 </td><td>-1.087957 </td><td>-0.4960440</td></tr>\n",
       "\t<tr><td>3         </td><td>0         </td><td>19        </td><td>142       </td><td>32.3      </td><td>16        </td><td>8.022865  </td><td>1.0711867 </td><td>1.684411  </td><td>-1.325642 </td><td>-1.084925 </td><td>-0.4966775</td></tr>\n",
       "\t<tr><td>4         </td><td>0         </td><td>19        </td><td>143       </td><td>32.7      </td><td>16        </td><td>7.889885  </td><td>1.0185680 </td><td>1.706436  </td><td>-1.248063 </td><td>-1.080481 </td><td>-0.4968717</td></tr>\n",
       "\t<tr><td>5         </td><td>0         </td><td>19        </td><td>144       </td><td>33.2      </td><td>16        </td><td>7.755005  </td><td>0.9649095 </td><td>1.727973  </td><td>-1.171015 </td><td>-1.077160 </td><td>-0.4974037</td></tr>\n",
       "\t<tr><td>6         </td><td>0         </td><td>19        </td><td>145       </td><td>33.6      </td><td>16        </td><td>7.621174  </td><td>0.9118839 </td><td>1.750086  </td><td>-1.093243 </td><td>-1.072439 </td><td>-0.4975001</td></tr>\n",
       "</tbody>\n",
       "</table>\n"
      ],
      "text/latex": [
       "\\begin{tabular}{r|llllllllllll}\n",
       " X & Sex & Age & Height & Weight & BMI & Axis1 & Axis2 & Axis3 & Axis4 & Axis5 & Axis6\\\\\n",
       "\\hline\n",
       "\t 1          & 0          & 19         & 140        & 31.4       & 16         & 8.288972   & 1.1766257  & 1.641035   & -1.479860  & -1.092101  & -0.4957447\\\\\n",
       "\t 2          & 0          & 19         & 141        & 31.8       & 16         & 8.156877   & 1.1244301  & 1.662965   & -1.402489  & -1.087957  & -0.4960440\\\\\n",
       "\t 3          & 0          & 19         & 142        & 32.3       & 16         & 8.022865   & 1.0711867  & 1.684411   & -1.325642  & -1.084925  & -0.4966775\\\\\n",
       "\t 4          & 0          & 19         & 143        & 32.7       & 16         & 7.889885   & 1.0185680  & 1.706436   & -1.248063  & -1.080481  & -0.4968717\\\\\n",
       "\t 5          & 0          & 19         & 144        & 33.2       & 16         & 7.755005   & 0.9649095  & 1.727973   & -1.171015  & -1.077160  & -0.4974037\\\\\n",
       "\t 6          & 0          & 19         & 145        & 33.6       & 16         & 7.621174   & 0.9118839  & 1.750086   & -1.093243  & -1.072439  & -0.4975001\\\\\n",
       "\\end{tabular}\n"
      ],
      "text/markdown": [
       "\n",
       "| X | Sex | Age | Height | Weight | BMI | Axis1 | Axis2 | Axis3 | Axis4 | Axis5 | Axis6 |\n",
       "|---|---|---|---|---|---|---|---|---|---|---|---|\n",
       "| 1          | 0          | 19         | 140        | 31.4       | 16         | 8.288972   | 1.1766257  | 1.641035   | -1.479860  | -1.092101  | -0.4957447 |\n",
       "| 2          | 0          | 19         | 141        | 31.8       | 16         | 8.156877   | 1.1244301  | 1.662965   | -1.402489  | -1.087957  | -0.4960440 |\n",
       "| 3          | 0          | 19         | 142        | 32.3       | 16         | 8.022865   | 1.0711867  | 1.684411   | -1.325642  | -1.084925  | -0.4966775 |\n",
       "| 4          | 0          | 19         | 143        | 32.7       | 16         | 7.889885   | 1.0185680  | 1.706436   | -1.248063  | -1.080481  | -0.4968717 |\n",
       "| 5          | 0          | 19         | 144        | 33.2       | 16         | 7.755005   | 0.9649095  | 1.727973   | -1.171015  | -1.077160  | -0.4974037 |\n",
       "| 6          | 0          | 19         | 145        | 33.6       | 16         | 7.621174   | 0.9118839  | 1.750086   | -1.093243  | -1.072439  | -0.4975001 |\n",
       "\n"
      ],
      "text/plain": [
       "  X Sex Age Height Weight BMI Axis1    Axis2     Axis3    Axis4     Axis5    \n",
       "1 1 0   19  140    31.4   16  8.288972 1.1766257 1.641035 -1.479860 -1.092101\n",
       "2 2 0   19  141    31.8   16  8.156877 1.1244301 1.662965 -1.402489 -1.087957\n",
       "3 3 0   19  142    32.3   16  8.022865 1.0711867 1.684411 -1.325642 -1.084925\n",
       "4 4 0   19  143    32.7   16  7.889885 1.0185680 1.706436 -1.248063 -1.080481\n",
       "5 5 0   19  144    33.2   16  7.755005 0.9649095 1.727973 -1.171015 -1.077160\n",
       "6 6 0   19  145    33.6   16  7.621174 0.9118839 1.750086 -1.093243 -1.072439\n",
       "  Axis6     \n",
       "1 -0.4957447\n",
       "2 -0.4960440\n",
       "3 -0.4966775\n",
       "4 -0.4968717\n",
       "5 -0.4974037\n",
       "6 -0.4975001"
      ]
     },
     "metadata": {},
     "output_type": "display_data"
    }
   ],
   "source": [
    "data_new<-cbind(data_index, data_1_select, data_2_select)\n",
    "head(data_new)\n",
    "\n"
   ]
  },
  {
   "cell_type": "code",
   "execution_count": null,
   "metadata": {},
   "outputs": [],
   "source": []
  },
  {
   "cell_type": "code",
   "execution_count": null,
   "metadata": {},
   "outputs": [],
   "source": []
  }
 ],
 "metadata": {
  "kernelspec": {
   "display_name": "R",
   "language": "R",
   "name": "ir"
  },
  "language_info": {
   "codemirror_mode": "r",
   "file_extension": ".r",
   "mimetype": "text/x-r-source",
   "name": "R",
   "pygments_lexer": "r",
   "version": "3.6.1"
  }
 },
 "nbformat": 4,
 "nbformat_minor": 4
}
