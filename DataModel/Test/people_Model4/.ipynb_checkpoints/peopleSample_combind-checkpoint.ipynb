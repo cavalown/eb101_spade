{
 "cells": [
  {
   "cell_type": "code",
   "execution_count": 1,
   "metadata": {},
   "outputs": [
    {
     "data": {
      "text/html": [
       "<table>\n",
       "<thead><tr><th scope=col>X</th><th scope=col>Sex</th><th scope=col>Age</th><th scope=col>Height</th><th scope=col>Weight</th><th scope=col>BMI</th><th scope=col>Calories</th><th scope=col>Moisture</th><th scope=col>Protein</th><th scope=col>Saturated_fat</th><th scope=col>...</th><th scope=col>Zn</th><th scope=col>P</th><th scope=col>VitaminA</th><th scope=col>VitaminE</th><th scope=col>VitaminB_group</th><th scope=col>VitaminC</th><th scope=col>Fatty_acid_S</th><th scope=col>Fatty_acid_M</th><th scope=col>Fatty_acid_P</th><th scope=col>Cholesterol</th></tr></thead>\n",
       "<tbody>\n",
       "\t<tr><td>0     </td><td>0     </td><td>19    </td><td>140   </td><td>31.4  </td><td>16    </td><td>1408.4</td><td> 942  </td><td>34.5  </td><td>140.8 </td><td>...   </td><td>12    </td><td>800   </td><td>500   </td><td>12    </td><td>20.59 </td><td>100   </td><td>140.8 </td><td>84.5  </td><td>12.7  </td><td>300   </td></tr>\n",
       "\t<tr><td>1     </td><td>0     </td><td>19    </td><td>141   </td><td>31.8  </td><td>16    </td><td>1425.1</td><td> 954  </td><td>35.0  </td><td>142.5 </td><td>...   </td><td>12    </td><td>800   </td><td>500   </td><td>12    </td><td>20.59 </td><td>100   </td><td>142.5 </td><td>85.5  </td><td>12.8  </td><td>300   </td></tr>\n",
       "\t<tr><td>2     </td><td>0     </td><td>19    </td><td>142   </td><td>32.3  </td><td>16    </td><td>1445.4</td><td> 969  </td><td>35.5  </td><td>144.5 </td><td>...   </td><td>12    </td><td>800   </td><td>500   </td><td>12    </td><td>20.59 </td><td>100   </td><td>144.5 </td><td>86.7  </td><td>13.0  </td><td>300   </td></tr>\n",
       "\t<tr><td>3     </td><td>0     </td><td>19    </td><td>143   </td><td>32.7  </td><td>16    </td><td>1462.1</td><td> 981  </td><td>36.0  </td><td>146.2 </td><td>...   </td><td>12    </td><td>800   </td><td>500   </td><td>12    </td><td>20.59 </td><td>100   </td><td>146.2 </td><td>87.7  </td><td>13.2  </td><td>300   </td></tr>\n",
       "\t<tr><td>4     </td><td>0     </td><td>19    </td><td>144   </td><td>33.2  </td><td>16    </td><td>1482.3</td><td> 996  </td><td>36.5  </td><td>148.2 </td><td>...   </td><td>12    </td><td>800   </td><td>500   </td><td>12    </td><td>20.59 </td><td>100   </td><td>148.2 </td><td>88.9  </td><td>13.3  </td><td>300   </td></tr>\n",
       "\t<tr><td>5     </td><td>0     </td><td>19    </td><td>145   </td><td>33.6  </td><td>16    </td><td>1498.8</td><td>1008  </td><td>37.0  </td><td>149.9 </td><td>...   </td><td>12    </td><td>800   </td><td>500   </td><td>12    </td><td>20.59 </td><td>100   </td><td>149.9 </td><td>89.9  </td><td>13.5  </td><td>300   </td></tr>\n",
       "</tbody>\n",
       "</table>\n"
      ],
      "text/latex": [
       "\\begin{tabular}{r|lllllllllllllllllllllllllll}\n",
       " X & Sex & Age & Height & Weight & BMI & Calories & Moisture & Protein & Saturated\\_fat & ... & Zn & P & VitaminA & VitaminE & VitaminB\\_group & VitaminC & Fatty\\_acid\\_S & Fatty\\_acid\\_M & Fatty\\_acid\\_P & Cholesterol\\\\\n",
       "\\hline\n",
       "\t 0      & 0      & 19     & 140    & 31.4   & 16     & 1408.4 &  942   & 34.5   & 140.8  & ...    & 12     & 800    & 500    & 12     & 20.59  & 100    & 140.8  & 84.5   & 12.7   & 300   \\\\\n",
       "\t 1      & 0      & 19     & 141    & 31.8   & 16     & 1425.1 &  954   & 35.0   & 142.5  & ...    & 12     & 800    & 500    & 12     & 20.59  & 100    & 142.5  & 85.5   & 12.8   & 300   \\\\\n",
       "\t 2      & 0      & 19     & 142    & 32.3   & 16     & 1445.4 &  969   & 35.5   & 144.5  & ...    & 12     & 800    & 500    & 12     & 20.59  & 100    & 144.5  & 86.7   & 13.0   & 300   \\\\\n",
       "\t 3      & 0      & 19     & 143    & 32.7   & 16     & 1462.1 &  981   & 36.0   & 146.2  & ...    & 12     & 800    & 500    & 12     & 20.59  & 100    & 146.2  & 87.7   & 13.2   & 300   \\\\\n",
       "\t 4      & 0      & 19     & 144    & 33.2   & 16     & 1482.3 &  996   & 36.5   & 148.2  & ...    & 12     & 800    & 500    & 12     & 20.59  & 100    & 148.2  & 88.9   & 13.3   & 300   \\\\\n",
       "\t 5      & 0      & 19     & 145    & 33.6   & 16     & 1498.8 & 1008   & 37.0   & 149.9  & ...    & 12     & 800    & 500    & 12     & 20.59  & 100    & 149.9  & 89.9   & 13.5   & 300   \\\\\n",
       "\\end{tabular}\n"
      ],
      "text/markdown": [
       "\n",
       "| X | Sex | Age | Height | Weight | BMI | Calories | Moisture | Protein | Saturated_fat | ... | Zn | P | VitaminA | VitaminE | VitaminB_group | VitaminC | Fatty_acid_S | Fatty_acid_M | Fatty_acid_P | Cholesterol |\n",
       "|---|---|---|---|---|---|---|---|---|---|---|---|---|---|---|---|---|---|---|---|---|\n",
       "| 0      | 0      | 19     | 140    | 31.4   | 16     | 1408.4 |  942   | 34.5   | 140.8  | ...    | 12     | 800    | 500    | 12     | 20.59  | 100    | 140.8  | 84.5   | 12.7   | 300    |\n",
       "| 1      | 0      | 19     | 141    | 31.8   | 16     | 1425.1 |  954   | 35.0   | 142.5  | ...    | 12     | 800    | 500    | 12     | 20.59  | 100    | 142.5  | 85.5   | 12.8   | 300    |\n",
       "| 2      | 0      | 19     | 142    | 32.3   | 16     | 1445.4 |  969   | 35.5   | 144.5  | ...    | 12     | 800    | 500    | 12     | 20.59  | 100    | 144.5  | 86.7   | 13.0   | 300    |\n",
       "| 3      | 0      | 19     | 143    | 32.7   | 16     | 1462.1 |  981   | 36.0   | 146.2  | ...    | 12     | 800    | 500    | 12     | 20.59  | 100    | 146.2  | 87.7   | 13.2   | 300    |\n",
       "| 4      | 0      | 19     | 144    | 33.2   | 16     | 1482.3 |  996   | 36.5   | 148.2  | ...    | 12     | 800    | 500    | 12     | 20.59  | 100    | 148.2  | 88.9   | 13.3   | 300    |\n",
       "| 5      | 0      | 19     | 145    | 33.6   | 16     | 1498.8 | 1008   | 37.0   | 149.9  | ...    | 12     | 800    | 500    | 12     | 20.59  | 100    | 149.9  | 89.9   | 13.5   | 300    |\n",
       "\n"
      ],
      "text/plain": [
       "  X Sex Age Height Weight BMI Calories Moisture Protein Saturated_fat ... Zn\n",
       "1 0 0   19  140    31.4   16  1408.4    942     34.5    140.8         ... 12\n",
       "2 1 0   19  141    31.8   16  1425.1    954     35.0    142.5         ... 12\n",
       "3 2 0   19  142    32.3   16  1445.4    969     35.5    144.5         ... 12\n",
       "4 3 0   19  143    32.7   16  1462.1    981     36.0    146.2         ... 12\n",
       "5 4 0   19  144    33.2   16  1482.3    996     36.5    148.2         ... 12\n",
       "6 5 0   19  145    33.6   16  1498.8   1008     37.0    149.9         ... 12\n",
       "  P   VitaminA VitaminE VitaminB_group VitaminC Fatty_acid_S Fatty_acid_M\n",
       "1 800 500      12       20.59          100      140.8        84.5        \n",
       "2 800 500      12       20.59          100      142.5        85.5        \n",
       "3 800 500      12       20.59          100      144.5        86.7        \n",
       "4 800 500      12       20.59          100      146.2        87.7        \n",
       "5 800 500      12       20.59          100      148.2        88.9        \n",
       "6 800 500      12       20.59          100      149.9        89.9        \n",
       "  Fatty_acid_P Cholesterol\n",
       "1 12.7         300        \n",
       "2 12.8         300        \n",
       "3 13.0         300        \n",
       "4 13.2         300        \n",
       "5 13.3         300        \n",
       "6 13.5         300        "
      ]
     },
     "metadata": {},
     "output_type": "display_data"
    }
   ],
   "source": [
    "data_1<-read.csv('peopleSample2.csv')\n",
    "head(data_1)"
   ]
  },
  {
   "cell_type": "code",
   "execution_count": 2,
   "metadata": {},
   "outputs": [
    {
     "data": {
      "text/html": [
       "<table>\n",
       "<thead><tr><th scope=col>Sex</th><th scope=col>Age</th><th scope=col>Height</th><th scope=col>Weight</th><th scope=col>BMI</th></tr></thead>\n",
       "<tbody>\n",
       "\t<tr><td>0   </td><td>19  </td><td>140 </td><td>31.4</td><td>16  </td></tr>\n",
       "\t<tr><td>0   </td><td>19  </td><td>141 </td><td>31.8</td><td>16  </td></tr>\n",
       "\t<tr><td>0   </td><td>19  </td><td>142 </td><td>32.3</td><td>16  </td></tr>\n",
       "\t<tr><td>0   </td><td>19  </td><td>143 </td><td>32.7</td><td>16  </td></tr>\n",
       "\t<tr><td>0   </td><td>19  </td><td>144 </td><td>33.2</td><td>16  </td></tr>\n",
       "\t<tr><td>0   </td><td>19  </td><td>145 </td><td>33.6</td><td>16  </td></tr>\n",
       "</tbody>\n",
       "</table>\n"
      ],
      "text/latex": [
       "\\begin{tabular}{r|lllll}\n",
       " Sex & Age & Height & Weight & BMI\\\\\n",
       "\\hline\n",
       "\t 0    & 19   & 140  & 31.4 & 16  \\\\\n",
       "\t 0    & 19   & 141  & 31.8 & 16  \\\\\n",
       "\t 0    & 19   & 142  & 32.3 & 16  \\\\\n",
       "\t 0    & 19   & 143  & 32.7 & 16  \\\\\n",
       "\t 0    & 19   & 144  & 33.2 & 16  \\\\\n",
       "\t 0    & 19   & 145  & 33.6 & 16  \\\\\n",
       "\\end{tabular}\n"
      ],
      "text/markdown": [
       "\n",
       "| Sex | Age | Height | Weight | BMI |\n",
       "|---|---|---|---|---|\n",
       "| 0    | 19   | 140  | 31.4 | 16   |\n",
       "| 0    | 19   | 141  | 31.8 | 16   |\n",
       "| 0    | 19   | 142  | 32.3 | 16   |\n",
       "| 0    | 19   | 143  | 32.7 | 16   |\n",
       "| 0    | 19   | 144  | 33.2 | 16   |\n",
       "| 0    | 19   | 145  | 33.6 | 16   |\n",
       "\n"
      ],
      "text/plain": [
       "  Sex Age Height Weight BMI\n",
       "1 0   19  140    31.4   16 \n",
       "2 0   19  141    31.8   16 \n",
       "3 0   19  142    32.3   16 \n",
       "4 0   19  143    32.7   16 \n",
       "5 0   19  144    33.2   16 \n",
       "6 0   19  145    33.6   16 "
      ]
     },
     "metadata": {},
     "output_type": "display_data"
    }
   ],
   "source": [
    "data_1_select<-data_1[c(2,3,4,5,6)]\n",
    "head(data_1_select)"
   ]
  },
  {
   "cell_type": "code",
   "execution_count": 3,
   "metadata": {},
   "outputs": [
    {
     "data": {
      "text/html": [
       "<table>\n",
       "<thead><tr><th scope=col>X</th><th scope=col>Axis1</th><th scope=col>Axis2</th><th scope=col>Axis3</th><th scope=col>Axis4</th></tr></thead>\n",
       "<tbody>\n",
       "\t<tr><td>1         </td><td>6.729464  </td><td>-2.307124 </td><td>0.7245930 </td><td>-1.1540882</td></tr>\n",
       "\t<tr><td>2         </td><td>6.610950  </td><td>-2.308079 </td><td>0.7359570 </td><td>-1.1226211</td></tr>\n",
       "\t<tr><td>3         </td><td>6.460956  </td><td>-2.309262 </td><td>0.7510581 </td><td>-1.0834615</td></tr>\n",
       "\t<tr><td>4         </td><td>6.330352  </td><td>-2.310305 </td><td>0.7629417 </td><td>-1.0525914</td></tr>\n",
       "\t<tr><td>5         </td><td>6.192544  </td><td>-2.311400 </td><td>0.7774256 </td><td>-1.0131281</td></tr>\n",
       "\t<tr><td>6         </td><td>6.062321  </td><td>-2.312441 </td><td>0.7891059 </td><td>-0.9828352</td></tr>\n",
       "</tbody>\n",
       "</table>\n"
      ],
      "text/latex": [
       "\\begin{tabular}{r|lllll}\n",
       " X & Axis1 & Axis2 & Axis3 & Axis4\\\\\n",
       "\\hline\n",
       "\t 1          & 6.729464   & -2.307124  & 0.7245930  & -1.1540882\\\\\n",
       "\t 2          & 6.610950   & -2.308079  & 0.7359570  & -1.1226211\\\\\n",
       "\t 3          & 6.460956   & -2.309262  & 0.7510581  & -1.0834615\\\\\n",
       "\t 4          & 6.330352   & -2.310305  & 0.7629417  & -1.0525914\\\\\n",
       "\t 5          & 6.192544   & -2.311400  & 0.7774256  & -1.0131281\\\\\n",
       "\t 6          & 6.062321   & -2.312441  & 0.7891059  & -0.9828352\\\\\n",
       "\\end{tabular}\n"
      ],
      "text/markdown": [
       "\n",
       "| X | Axis1 | Axis2 | Axis3 | Axis4 |\n",
       "|---|---|---|---|---|\n",
       "| 1          | 6.729464   | -2.307124  | 0.7245930  | -1.1540882 |\n",
       "| 2          | 6.610950   | -2.308079  | 0.7359570  | -1.1226211 |\n",
       "| 3          | 6.460956   | -2.309262  | 0.7510581  | -1.0834615 |\n",
       "| 4          | 6.330352   | -2.310305  | 0.7629417  | -1.0525914 |\n",
       "| 5          | 6.192544   | -2.311400  | 0.7774256  | -1.0131281 |\n",
       "| 6          | 6.062321   | -2.312441  | 0.7891059  | -0.9828352 |\n",
       "\n"
      ],
      "text/plain": [
       "  X Axis1    Axis2     Axis3     Axis4     \n",
       "1 1 6.729464 -2.307124 0.7245930 -1.1540882\n",
       "2 2 6.610950 -2.308079 0.7359570 -1.1226211\n",
       "3 3 6.460956 -2.309262 0.7510581 -1.0834615\n",
       "4 4 6.330352 -2.310305 0.7629417 -1.0525914\n",
       "5 5 6.192544 -2.311400 0.7774256 -1.0131281\n",
       "6 6 6.062321 -2.312441 0.7891059 -0.9828352"
      ]
     },
     "metadata": {},
     "output_type": "display_data"
    }
   ],
   "source": [
    "data_2<-read.csv('peopleSample_new.csv')\n",
    "head(data_2)"
   ]
  },
  {
   "cell_type": "code",
   "execution_count": 4,
   "metadata": {},
   "outputs": [
    {
     "data": {
      "text/html": [
       "<table>\n",
       "<thead><tr><th scope=col>X</th></tr></thead>\n",
       "<tbody>\n",
       "\t<tr><td>1</td></tr>\n",
       "\t<tr><td>2</td></tr>\n",
       "\t<tr><td>3</td></tr>\n",
       "\t<tr><td>4</td></tr>\n",
       "\t<tr><td>5</td></tr>\n",
       "\t<tr><td>6</td></tr>\n",
       "</tbody>\n",
       "</table>\n"
      ],
      "text/latex": [
       "\\begin{tabular}{r|l}\n",
       " X\\\\\n",
       "\\hline\n",
       "\t 1\\\\\n",
       "\t 2\\\\\n",
       "\t 3\\\\\n",
       "\t 4\\\\\n",
       "\t 5\\\\\n",
       "\t 6\\\\\n",
       "\\end{tabular}\n"
      ],
      "text/markdown": [
       "\n",
       "| X |\n",
       "|---|\n",
       "| 1 |\n",
       "| 2 |\n",
       "| 3 |\n",
       "| 4 |\n",
       "| 5 |\n",
       "| 6 |\n",
       "\n"
      ],
      "text/plain": [
       "  X\n",
       "1 1\n",
       "2 2\n",
       "3 3\n",
       "4 4\n",
       "5 5\n",
       "6 6"
      ]
     },
     "metadata": {},
     "output_type": "display_data"
    }
   ],
   "source": [
    "data_index<-data_2[1]\n",
    "head(data_index)"
   ]
  },
  {
   "cell_type": "code",
   "execution_count": 7,
   "metadata": {},
   "outputs": [
    {
     "data": {
      "text/html": [
       "<table>\n",
       "<thead><tr><th scope=col>Axis1</th><th scope=col>Axis2</th><th scope=col>Axis3</th><th scope=col>Axis4</th></tr></thead>\n",
       "<tbody>\n",
       "\t<tr><td>6.729464  </td><td>-2.307124 </td><td>0.7245930 </td><td>-1.1540882</td></tr>\n",
       "\t<tr><td>6.610950  </td><td>-2.308079 </td><td>0.7359570 </td><td>-1.1226211</td></tr>\n",
       "\t<tr><td>6.460956  </td><td>-2.309262 </td><td>0.7510581 </td><td>-1.0834615</td></tr>\n",
       "\t<tr><td>6.330352  </td><td>-2.310305 </td><td>0.7629417 </td><td>-1.0525914</td></tr>\n",
       "\t<tr><td>6.192544  </td><td>-2.311400 </td><td>0.7774256 </td><td>-1.0131281</td></tr>\n",
       "\t<tr><td>6.062321  </td><td>-2.312441 </td><td>0.7891059 </td><td>-0.9828352</td></tr>\n",
       "</tbody>\n",
       "</table>\n"
      ],
      "text/latex": [
       "\\begin{tabular}{r|llll}\n",
       " Axis1 & Axis2 & Axis3 & Axis4\\\\\n",
       "\\hline\n",
       "\t 6.729464   & -2.307124  & 0.7245930  & -1.1540882\\\\\n",
       "\t 6.610950   & -2.308079  & 0.7359570  & -1.1226211\\\\\n",
       "\t 6.460956   & -2.309262  & 0.7510581  & -1.0834615\\\\\n",
       "\t 6.330352   & -2.310305  & 0.7629417  & -1.0525914\\\\\n",
       "\t 6.192544   & -2.311400  & 0.7774256  & -1.0131281\\\\\n",
       "\t 6.062321   & -2.312441  & 0.7891059  & -0.9828352\\\\\n",
       "\\end{tabular}\n"
      ],
      "text/markdown": [
       "\n",
       "| Axis1 | Axis2 | Axis3 | Axis4 |\n",
       "|---|---|---|---|\n",
       "| 6.729464   | -2.307124  | 0.7245930  | -1.1540882 |\n",
       "| 6.610950   | -2.308079  | 0.7359570  | -1.1226211 |\n",
       "| 6.460956   | -2.309262  | 0.7510581  | -1.0834615 |\n",
       "| 6.330352   | -2.310305  | 0.7629417  | -1.0525914 |\n",
       "| 6.192544   | -2.311400  | 0.7774256  | -1.0131281 |\n",
       "| 6.062321   | -2.312441  | 0.7891059  | -0.9828352 |\n",
       "\n"
      ],
      "text/plain": [
       "  Axis1    Axis2     Axis3     Axis4     \n",
       "1 6.729464 -2.307124 0.7245930 -1.1540882\n",
       "2 6.610950 -2.308079 0.7359570 -1.1226211\n",
       "3 6.460956 -2.309262 0.7510581 -1.0834615\n",
       "4 6.330352 -2.310305 0.7629417 -1.0525914\n",
       "5 6.192544 -2.311400 0.7774256 -1.0131281\n",
       "6 6.062321 -2.312441 0.7891059 -0.9828352"
      ]
     },
     "metadata": {},
     "output_type": "display_data"
    }
   ],
   "source": [
    "data_2_select<-data_2[c(2,3,4,5)]\n",
    "head(data_2_select)"
   ]
  },
  {
   "cell_type": "code",
   "execution_count": 8,
   "metadata": {},
   "outputs": [
    {
     "data": {
      "text/html": [
       "<table>\n",
       "<thead><tr><th scope=col>X</th><th scope=col>Sex</th><th scope=col>Age</th><th scope=col>Height</th><th scope=col>Weight</th><th scope=col>BMI</th><th scope=col>Axis1</th><th scope=col>Axis2</th><th scope=col>Axis3</th><th scope=col>Axis4</th></tr></thead>\n",
       "<tbody>\n",
       "\t<tr><td>1         </td><td>0         </td><td>19        </td><td>140       </td><td>31.4      </td><td>16        </td><td>6.729464  </td><td>-2.307124 </td><td>0.7245930 </td><td>-1.1540882</td></tr>\n",
       "\t<tr><td>2         </td><td>0         </td><td>19        </td><td>141       </td><td>31.8      </td><td>16        </td><td>6.610950  </td><td>-2.308079 </td><td>0.7359570 </td><td>-1.1226211</td></tr>\n",
       "\t<tr><td>3         </td><td>0         </td><td>19        </td><td>142       </td><td>32.3      </td><td>16        </td><td>6.460956  </td><td>-2.309262 </td><td>0.7510581 </td><td>-1.0834615</td></tr>\n",
       "\t<tr><td>4         </td><td>0         </td><td>19        </td><td>143       </td><td>32.7      </td><td>16        </td><td>6.330352  </td><td>-2.310305 </td><td>0.7629417 </td><td>-1.0525914</td></tr>\n",
       "\t<tr><td>5         </td><td>0         </td><td>19        </td><td>144       </td><td>33.2      </td><td>16        </td><td>6.192544  </td><td>-2.311400 </td><td>0.7774256 </td><td>-1.0131281</td></tr>\n",
       "\t<tr><td>6         </td><td>0         </td><td>19        </td><td>145       </td><td>33.6      </td><td>16        </td><td>6.062321  </td><td>-2.312441 </td><td>0.7891059 </td><td>-0.9828352</td></tr>\n",
       "</tbody>\n",
       "</table>\n"
      ],
      "text/latex": [
       "\\begin{tabular}{r|llllllllll}\n",
       " X & Sex & Age & Height & Weight & BMI & Axis1 & Axis2 & Axis3 & Axis4\\\\\n",
       "\\hline\n",
       "\t 1          & 0          & 19         & 140        & 31.4       & 16         & 6.729464   & -2.307124  & 0.7245930  & -1.1540882\\\\\n",
       "\t 2          & 0          & 19         & 141        & 31.8       & 16         & 6.610950   & -2.308079  & 0.7359570  & -1.1226211\\\\\n",
       "\t 3          & 0          & 19         & 142        & 32.3       & 16         & 6.460956   & -2.309262  & 0.7510581  & -1.0834615\\\\\n",
       "\t 4          & 0          & 19         & 143        & 32.7       & 16         & 6.330352   & -2.310305  & 0.7629417  & -1.0525914\\\\\n",
       "\t 5          & 0          & 19         & 144        & 33.2       & 16         & 6.192544   & -2.311400  & 0.7774256  & -1.0131281\\\\\n",
       "\t 6          & 0          & 19         & 145        & 33.6       & 16         & 6.062321   & -2.312441  & 0.7891059  & -0.9828352\\\\\n",
       "\\end{tabular}\n"
      ],
      "text/markdown": [
       "\n",
       "| X | Sex | Age | Height | Weight | BMI | Axis1 | Axis2 | Axis3 | Axis4 |\n",
       "|---|---|---|---|---|---|---|---|---|---|\n",
       "| 1          | 0          | 19         | 140        | 31.4       | 16         | 6.729464   | -2.307124  | 0.7245930  | -1.1540882 |\n",
       "| 2          | 0          | 19         | 141        | 31.8       | 16         | 6.610950   | -2.308079  | 0.7359570  | -1.1226211 |\n",
       "| 3          | 0          | 19         | 142        | 32.3       | 16         | 6.460956   | -2.309262  | 0.7510581  | -1.0834615 |\n",
       "| 4          | 0          | 19         | 143        | 32.7       | 16         | 6.330352   | -2.310305  | 0.7629417  | -1.0525914 |\n",
       "| 5          | 0          | 19         | 144        | 33.2       | 16         | 6.192544   | -2.311400  | 0.7774256  | -1.0131281 |\n",
       "| 6          | 0          | 19         | 145        | 33.6       | 16         | 6.062321   | -2.312441  | 0.7891059  | -0.9828352 |\n",
       "\n"
      ],
      "text/plain": [
       "  X Sex Age Height Weight BMI Axis1    Axis2     Axis3     Axis4     \n",
       "1 1 0   19  140    31.4   16  6.729464 -2.307124 0.7245930 -1.1540882\n",
       "2 2 0   19  141    31.8   16  6.610950 -2.308079 0.7359570 -1.1226211\n",
       "3 3 0   19  142    32.3   16  6.460956 -2.309262 0.7510581 -1.0834615\n",
       "4 4 0   19  143    32.7   16  6.330352 -2.310305 0.7629417 -1.0525914\n",
       "5 5 0   19  144    33.2   16  6.192544 -2.311400 0.7774256 -1.0131281\n",
       "6 6 0   19  145    33.6   16  6.062321 -2.312441 0.7891059 -0.9828352"
      ]
     },
     "metadata": {},
     "output_type": "display_data"
    }
   ],
   "source": [
    "data_new<-cbind(data_index, data_1_select, data_2_select)\n",
    "head(data_new)\n",
    "\n"
   ]
  },
  {
   "cell_type": "code",
   "execution_count": 9,
   "metadata": {},
   "outputs": [],
   "source": [
    "write.csv(data_new,\"peopleSample4_combind.csv\", row.names = TRUE)"
   ]
  },
  {
   "cell_type": "code",
   "execution_count": null,
   "metadata": {},
   "outputs": [],
   "source": []
  }
 ],
 "metadata": {
  "kernelspec": {
   "display_name": "R",
   "language": "R",
   "name": "ir"
  },
  "language_info": {
   "codemirror_mode": "r",
   "file_extension": ".r",
   "mimetype": "text/x-r-source",
   "name": "R",
   "pygments_lexer": "r",
   "version": "3.6.1"
  }
 },
 "nbformat": 4,
 "nbformat_minor": 4
}
