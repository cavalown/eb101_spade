{
 "cells": [
  {
   "cell_type": "code",
   "execution_count": 1,
   "metadata": {},
   "outputs": [
    {
     "data": {
      "text/html": [
       "<table>\n",
       "<thead><tr><th scope=col>X</th><th scope=col>Sex</th><th scope=col>Age</th><th scope=col>Height</th><th scope=col>Weight</th><th scope=col>BMI</th><th scope=col>Calories</th><th scope=col>Moisture</th><th scope=col>Protein</th><th scope=col>Saturated_fat</th><th scope=col>...</th><th scope=col>Zn</th><th scope=col>P</th><th scope=col>VitaminA</th><th scope=col>VitaminE</th><th scope=col>VitaminB_group</th><th scope=col>VitaminC</th><th scope=col>Fatty_acid_S</th><th scope=col>Fatty_acid_M</th><th scope=col>Fatty_acid_P</th><th scope=col>Cholesterol</th></tr></thead>\n",
       "<tbody>\n",
       "\t<tr><td>0     </td><td>0     </td><td>19    </td><td>140   </td><td>31.4  </td><td>16    </td><td>1408.4</td><td> 942  </td><td>34.5  </td><td>140.8 </td><td>...   </td><td>12    </td><td>800   </td><td>500   </td><td>12    </td><td>20.59 </td><td>100   </td><td>140.8 </td><td>84.5  </td><td>12.7  </td><td>300   </td></tr>\n",
       "\t<tr><td>1     </td><td>0     </td><td>19    </td><td>141   </td><td>31.8  </td><td>16    </td><td>1425.1</td><td> 954  </td><td>35.0  </td><td>142.5 </td><td>...   </td><td>12    </td><td>800   </td><td>500   </td><td>12    </td><td>20.59 </td><td>100   </td><td>142.5 </td><td>85.5  </td><td>12.8  </td><td>300   </td></tr>\n",
       "\t<tr><td>2     </td><td>0     </td><td>19    </td><td>142   </td><td>32.3  </td><td>16    </td><td>1445.4</td><td> 969  </td><td>35.5  </td><td>144.5 </td><td>...   </td><td>12    </td><td>800   </td><td>500   </td><td>12    </td><td>20.59 </td><td>100   </td><td>144.5 </td><td>86.7  </td><td>13.0  </td><td>300   </td></tr>\n",
       "\t<tr><td>3     </td><td>0     </td><td>19    </td><td>143   </td><td>32.7  </td><td>16    </td><td>1462.1</td><td> 981  </td><td>36.0  </td><td>146.2 </td><td>...   </td><td>12    </td><td>800   </td><td>500   </td><td>12    </td><td>20.59 </td><td>100   </td><td>146.2 </td><td>87.7  </td><td>13.2  </td><td>300   </td></tr>\n",
       "\t<tr><td>4     </td><td>0     </td><td>19    </td><td>144   </td><td>33.2  </td><td>16    </td><td>1482.3</td><td> 996  </td><td>36.5  </td><td>148.2 </td><td>...   </td><td>12    </td><td>800   </td><td>500   </td><td>12    </td><td>20.59 </td><td>100   </td><td>148.2 </td><td>88.9  </td><td>13.3  </td><td>300   </td></tr>\n",
       "\t<tr><td>5     </td><td>0     </td><td>19    </td><td>145   </td><td>33.6  </td><td>16    </td><td>1498.8</td><td>1008  </td><td>37.0  </td><td>149.9 </td><td>...   </td><td>12    </td><td>800   </td><td>500   </td><td>12    </td><td>20.59 </td><td>100   </td><td>149.9 </td><td>89.9  </td><td>13.5  </td><td>300   </td></tr>\n",
       "</tbody>\n",
       "</table>\n"
      ],
      "text/latex": [
       "\\begin{tabular}{r|lllllllllllllllllllllllllll}\n",
       " X & Sex & Age & Height & Weight & BMI & Calories & Moisture & Protein & Saturated\\_fat & ... & Zn & P & VitaminA & VitaminE & VitaminB\\_group & VitaminC & Fatty\\_acid\\_S & Fatty\\_acid\\_M & Fatty\\_acid\\_P & Cholesterol\\\\\n",
       "\\hline\n",
       "\t 0      & 0      & 19     & 140    & 31.4   & 16     & 1408.4 &  942   & 34.5   & 140.8  & ...    & 12     & 800    & 500    & 12     & 20.59  & 100    & 140.8  & 84.5   & 12.7   & 300   \\\\\n",
       "\t 1      & 0      & 19     & 141    & 31.8   & 16     & 1425.1 &  954   & 35.0   & 142.5  & ...    & 12     & 800    & 500    & 12     & 20.59  & 100    & 142.5  & 85.5   & 12.8   & 300   \\\\\n",
       "\t 2      & 0      & 19     & 142    & 32.3   & 16     & 1445.4 &  969   & 35.5   & 144.5  & ...    & 12     & 800    & 500    & 12     & 20.59  & 100    & 144.5  & 86.7   & 13.0   & 300   \\\\\n",
       "\t 3      & 0      & 19     & 143    & 32.7   & 16     & 1462.1 &  981   & 36.0   & 146.2  & ...    & 12     & 800    & 500    & 12     & 20.59  & 100    & 146.2  & 87.7   & 13.2   & 300   \\\\\n",
       "\t 4      & 0      & 19     & 144    & 33.2   & 16     & 1482.3 &  996   & 36.5   & 148.2  & ...    & 12     & 800    & 500    & 12     & 20.59  & 100    & 148.2  & 88.9   & 13.3   & 300   \\\\\n",
       "\t 5      & 0      & 19     & 145    & 33.6   & 16     & 1498.8 & 1008   & 37.0   & 149.9  & ...    & 12     & 800    & 500    & 12     & 20.59  & 100    & 149.9  & 89.9   & 13.5   & 300   \\\\\n",
       "\\end{tabular}\n"
      ],
      "text/markdown": [
       "\n",
       "| X | Sex | Age | Height | Weight | BMI | Calories | Moisture | Protein | Saturated_fat | ... | Zn | P | VitaminA | VitaminE | VitaminB_group | VitaminC | Fatty_acid_S | Fatty_acid_M | Fatty_acid_P | Cholesterol |\n",
       "|---|---|---|---|---|---|---|---|---|---|---|---|---|---|---|---|---|---|---|---|---|\n",
       "| 0      | 0      | 19     | 140    | 31.4   | 16     | 1408.4 |  942   | 34.5   | 140.8  | ...    | 12     | 800    | 500    | 12     | 20.59  | 100    | 140.8  | 84.5   | 12.7   | 300    |\n",
       "| 1      | 0      | 19     | 141    | 31.8   | 16     | 1425.1 |  954   | 35.0   | 142.5  | ...    | 12     | 800    | 500    | 12     | 20.59  | 100    | 142.5  | 85.5   | 12.8   | 300    |\n",
       "| 2      | 0      | 19     | 142    | 32.3   | 16     | 1445.4 |  969   | 35.5   | 144.5  | ...    | 12     | 800    | 500    | 12     | 20.59  | 100    | 144.5  | 86.7   | 13.0   | 300    |\n",
       "| 3      | 0      | 19     | 143    | 32.7   | 16     | 1462.1 |  981   | 36.0   | 146.2  | ...    | 12     | 800    | 500    | 12     | 20.59  | 100    | 146.2  | 87.7   | 13.2   | 300    |\n",
       "| 4      | 0      | 19     | 144    | 33.2   | 16     | 1482.3 |  996   | 36.5   | 148.2  | ...    | 12     | 800    | 500    | 12     | 20.59  | 100    | 148.2  | 88.9   | 13.3   | 300    |\n",
       "| 5      | 0      | 19     | 145    | 33.6   | 16     | 1498.8 | 1008   | 37.0   | 149.9  | ...    | 12     | 800    | 500    | 12     | 20.59  | 100    | 149.9  | 89.9   | 13.5   | 300    |\n",
       "\n"
      ],
      "text/plain": [
       "  X Sex Age Height Weight BMI Calories Moisture Protein Saturated_fat ... Zn\n",
       "1 0 0   19  140    31.4   16  1408.4    942     34.5    140.8         ... 12\n",
       "2 1 0   19  141    31.8   16  1425.1    954     35.0    142.5         ... 12\n",
       "3 2 0   19  142    32.3   16  1445.4    969     35.5    144.5         ... 12\n",
       "4 3 0   19  143    32.7   16  1462.1    981     36.0    146.2         ... 12\n",
       "5 4 0   19  144    33.2   16  1482.3    996     36.5    148.2         ... 12\n",
       "6 5 0   19  145    33.6   16  1498.8   1008     37.0    149.9         ... 12\n",
       "  P   VitaminA VitaminE VitaminB_group VitaminC Fatty_acid_S Fatty_acid_M\n",
       "1 800 500      12       20.59          100      140.8        84.5        \n",
       "2 800 500      12       20.59          100      142.5        85.5        \n",
       "3 800 500      12       20.59          100      144.5        86.7        \n",
       "4 800 500      12       20.59          100      146.2        87.7        \n",
       "5 800 500      12       20.59          100      148.2        88.9        \n",
       "6 800 500      12       20.59          100      149.9        89.9        \n",
       "  Fatty_acid_P Cholesterol\n",
       "1 12.7         300        \n",
       "2 12.8         300        \n",
       "3 13.0         300        \n",
       "4 13.2         300        \n",
       "5 13.3         300        \n",
       "6 13.5         300        "
      ]
     },
     "metadata": {},
     "output_type": "display_data"
    }
   ],
   "source": [
    "data_1<-read.csv('peopleSample2.csv')\n",
    "head(data_1)"
   ]
  },
  {
   "cell_type": "code",
   "execution_count": 2,
   "metadata": {},
   "outputs": [
    {
     "data": {
      "text/html": [
       "<table>\n",
       "<thead><tr><th scope=col>Cluster</th></tr></thead>\n",
       "<tbody>\n",
       "\t<tr><td>1</td></tr>\n",
       "\t<tr><td>1</td></tr>\n",
       "\t<tr><td>1</td></tr>\n",
       "\t<tr><td>1</td></tr>\n",
       "\t<tr><td>1</td></tr>\n",
       "\t<tr><td>1</td></tr>\n",
       "</tbody>\n",
       "</table>\n"
      ],
      "text/latex": [
       "\\begin{tabular}{r|l}\n",
       " Cluster\\\\\n",
       "\\hline\n",
       "\t 1\\\\\n",
       "\t 1\\\\\n",
       "\t 1\\\\\n",
       "\t 1\\\\\n",
       "\t 1\\\\\n",
       "\t 1\\\\\n",
       "\\end{tabular}\n"
      ],
      "text/markdown": [
       "\n",
       "| Cluster |\n",
       "|---|\n",
       "| 1 |\n",
       "| 1 |\n",
       "| 1 |\n",
       "| 1 |\n",
       "| 1 |\n",
       "| 1 |\n",
       "\n"
      ],
      "text/plain": [
       "  Cluster\n",
       "1 1      \n",
       "2 1      \n",
       "3 1      \n",
       "4 1      \n",
       "5 1      \n",
       "6 1      "
      ]
     },
     "metadata": {},
     "output_type": "display_data"
    }
   ],
   "source": [
    "data_cluster<-read.csv('cluster4.csv')\n",
    "colnames(data_cluster)='Cluster'\n",
    "head(data_cluster)"
   ]
  },
  {
   "cell_type": "code",
   "execution_count": 3,
   "metadata": {},
   "outputs": [
    {
     "data": {
      "text/html": [
       "<table>\n",
       "<thead><tr><th scope=col>X</th><th scope=col>Sex</th><th scope=col>Age</th><th scope=col>Height</th><th scope=col>Weight</th><th scope=col>BMI</th><th scope=col>Calories</th><th scope=col>Moisture</th><th scope=col>Protein</th><th scope=col>Saturated_fat</th><th scope=col>...</th><th scope=col>P</th><th scope=col>VitaminA</th><th scope=col>VitaminE</th><th scope=col>VitaminB_group</th><th scope=col>VitaminC</th><th scope=col>Fatty_acid_S</th><th scope=col>Fatty_acid_M</th><th scope=col>Fatty_acid_P</th><th scope=col>Cholesterol</th><th scope=col>Cluster</th></tr></thead>\n",
       "<tbody>\n",
       "\t<tr><td>0     </td><td>0     </td><td>19    </td><td>140   </td><td>31.4  </td><td>16    </td><td>1408.4</td><td> 942  </td><td>34.5  </td><td>140.8 </td><td>...   </td><td>800   </td><td>500   </td><td>12    </td><td>20.59 </td><td>100   </td><td>140.8 </td><td>84.5  </td><td>12.7  </td><td>300   </td><td>1     </td></tr>\n",
       "\t<tr><td>1     </td><td>0     </td><td>19    </td><td>141   </td><td>31.8  </td><td>16    </td><td>1425.1</td><td> 954  </td><td>35.0  </td><td>142.5 </td><td>...   </td><td>800   </td><td>500   </td><td>12    </td><td>20.59 </td><td>100   </td><td>142.5 </td><td>85.5  </td><td>12.8  </td><td>300   </td><td>1     </td></tr>\n",
       "\t<tr><td>2     </td><td>0     </td><td>19    </td><td>142   </td><td>32.3  </td><td>16    </td><td>1445.4</td><td> 969  </td><td>35.5  </td><td>144.5 </td><td>...   </td><td>800   </td><td>500   </td><td>12    </td><td>20.59 </td><td>100   </td><td>144.5 </td><td>86.7  </td><td>13.0  </td><td>300   </td><td>1     </td></tr>\n",
       "\t<tr><td>3     </td><td>0     </td><td>19    </td><td>143   </td><td>32.7  </td><td>16    </td><td>1462.1</td><td> 981  </td><td>36.0  </td><td>146.2 </td><td>...   </td><td>800   </td><td>500   </td><td>12    </td><td>20.59 </td><td>100   </td><td>146.2 </td><td>87.7  </td><td>13.2  </td><td>300   </td><td>1     </td></tr>\n",
       "\t<tr><td>4     </td><td>0     </td><td>19    </td><td>144   </td><td>33.2  </td><td>16    </td><td>1482.3</td><td> 996  </td><td>36.5  </td><td>148.2 </td><td>...   </td><td>800   </td><td>500   </td><td>12    </td><td>20.59 </td><td>100   </td><td>148.2 </td><td>88.9  </td><td>13.3  </td><td>300   </td><td>1     </td></tr>\n",
       "\t<tr><td>5     </td><td>0     </td><td>19    </td><td>145   </td><td>33.6  </td><td>16    </td><td>1498.8</td><td>1008  </td><td>37.0  </td><td>149.9 </td><td>...   </td><td>800   </td><td>500   </td><td>12    </td><td>20.59 </td><td>100   </td><td>149.9 </td><td>89.9  </td><td>13.5  </td><td>300   </td><td>1     </td></tr>\n",
       "</tbody>\n",
       "</table>\n"
      ],
      "text/latex": [
       "\\begin{tabular}{r|llllllllllllllllllllllllllll}\n",
       " X & Sex & Age & Height & Weight & BMI & Calories & Moisture & Protein & Saturated\\_fat & ... & P & VitaminA & VitaminE & VitaminB\\_group & VitaminC & Fatty\\_acid\\_S & Fatty\\_acid\\_M & Fatty\\_acid\\_P & Cholesterol & Cluster\\\\\n",
       "\\hline\n",
       "\t 0      & 0      & 19     & 140    & 31.4   & 16     & 1408.4 &  942   & 34.5   & 140.8  & ...    & 800    & 500    & 12     & 20.59  & 100    & 140.8  & 84.5   & 12.7   & 300    & 1     \\\\\n",
       "\t 1      & 0      & 19     & 141    & 31.8   & 16     & 1425.1 &  954   & 35.0   & 142.5  & ...    & 800    & 500    & 12     & 20.59  & 100    & 142.5  & 85.5   & 12.8   & 300    & 1     \\\\\n",
       "\t 2      & 0      & 19     & 142    & 32.3   & 16     & 1445.4 &  969   & 35.5   & 144.5  & ...    & 800    & 500    & 12     & 20.59  & 100    & 144.5  & 86.7   & 13.0   & 300    & 1     \\\\\n",
       "\t 3      & 0      & 19     & 143    & 32.7   & 16     & 1462.1 &  981   & 36.0   & 146.2  & ...    & 800    & 500    & 12     & 20.59  & 100    & 146.2  & 87.7   & 13.2   & 300    & 1     \\\\\n",
       "\t 4      & 0      & 19     & 144    & 33.2   & 16     & 1482.3 &  996   & 36.5   & 148.2  & ...    & 800    & 500    & 12     & 20.59  & 100    & 148.2  & 88.9   & 13.3   & 300    & 1     \\\\\n",
       "\t 5      & 0      & 19     & 145    & 33.6   & 16     & 1498.8 & 1008   & 37.0   & 149.9  & ...    & 800    & 500    & 12     & 20.59  & 100    & 149.9  & 89.9   & 13.5   & 300    & 1     \\\\\n",
       "\\end{tabular}\n"
      ],
      "text/markdown": [
       "\n",
       "| X | Sex | Age | Height | Weight | BMI | Calories | Moisture | Protein | Saturated_fat | ... | P | VitaminA | VitaminE | VitaminB_group | VitaminC | Fatty_acid_S | Fatty_acid_M | Fatty_acid_P | Cholesterol | Cluster |\n",
       "|---|---|---|---|---|---|---|---|---|---|---|---|---|---|---|---|---|---|---|---|---|\n",
       "| 0      | 0      | 19     | 140    | 31.4   | 16     | 1408.4 |  942   | 34.5   | 140.8  | ...    | 800    | 500    | 12     | 20.59  | 100    | 140.8  | 84.5   | 12.7   | 300    | 1      |\n",
       "| 1      | 0      | 19     | 141    | 31.8   | 16     | 1425.1 |  954   | 35.0   | 142.5  | ...    | 800    | 500    | 12     | 20.59  | 100    | 142.5  | 85.5   | 12.8   | 300    | 1      |\n",
       "| 2      | 0      | 19     | 142    | 32.3   | 16     | 1445.4 |  969   | 35.5   | 144.5  | ...    | 800    | 500    | 12     | 20.59  | 100    | 144.5  | 86.7   | 13.0   | 300    | 1      |\n",
       "| 3      | 0      | 19     | 143    | 32.7   | 16     | 1462.1 |  981   | 36.0   | 146.2  | ...    | 800    | 500    | 12     | 20.59  | 100    | 146.2  | 87.7   | 13.2   | 300    | 1      |\n",
       "| 4      | 0      | 19     | 144    | 33.2   | 16     | 1482.3 |  996   | 36.5   | 148.2  | ...    | 800    | 500    | 12     | 20.59  | 100    | 148.2  | 88.9   | 13.3   | 300    | 1      |\n",
       "| 5      | 0      | 19     | 145    | 33.6   | 16     | 1498.8 | 1008   | 37.0   | 149.9  | ...    | 800    | 500    | 12     | 20.59  | 100    | 149.9  | 89.9   | 13.5   | 300    | 1      |\n",
       "\n"
      ],
      "text/plain": [
       "  X Sex Age Height Weight BMI Calories Moisture Protein Saturated_fat ... P  \n",
       "1 0 0   19  140    31.4   16  1408.4    942     34.5    140.8         ... 800\n",
       "2 1 0   19  141    31.8   16  1425.1    954     35.0    142.5         ... 800\n",
       "3 2 0   19  142    32.3   16  1445.4    969     35.5    144.5         ... 800\n",
       "4 3 0   19  143    32.7   16  1462.1    981     36.0    146.2         ... 800\n",
       "5 4 0   19  144    33.2   16  1482.3    996     36.5    148.2         ... 800\n",
       "6 5 0   19  145    33.6   16  1498.8   1008     37.0    149.9         ... 800\n",
       "  VitaminA VitaminE VitaminB_group VitaminC Fatty_acid_S Fatty_acid_M\n",
       "1 500      12       20.59          100      140.8        84.5        \n",
       "2 500      12       20.59          100      142.5        85.5        \n",
       "3 500      12       20.59          100      144.5        86.7        \n",
       "4 500      12       20.59          100      146.2        87.7        \n",
       "5 500      12       20.59          100      148.2        88.9        \n",
       "6 500      12       20.59          100      149.9        89.9        \n",
       "  Fatty_acid_P Cholesterol Cluster\n",
       "1 12.7         300         1      \n",
       "2 12.8         300         1      \n",
       "3 13.0         300         1      \n",
       "4 13.2         300         1      \n",
       "5 13.3         300         1      \n",
       "6 13.5         300         1      "
      ]
     },
     "metadata": {},
     "output_type": "display_data"
    },
    {
     "data": {
      "text/html": [
       "<table>\n",
       "<thead><tr><th></th><th scope=col>X</th><th scope=col>Sex</th><th scope=col>Age</th><th scope=col>Height</th><th scope=col>Weight</th><th scope=col>BMI</th><th scope=col>Calories</th><th scope=col>Moisture</th><th scope=col>Protein</th><th scope=col>Saturated_fat</th><th scope=col>...</th><th scope=col>P</th><th scope=col>VitaminA</th><th scope=col>VitaminE</th><th scope=col>VitaminB_group</th><th scope=col>VitaminC</th><th scope=col>Fatty_acid_S</th><th scope=col>Fatty_acid_M</th><th scope=col>Fatty_acid_P</th><th scope=col>Cholesterol</th><th scope=col>Cluster</th></tr></thead>\n",
       "<tbody>\n",
       "\t<tr><th scope=row>91195</th><td>91194 </td><td>1     </td><td>75    </td><td>174   </td><td>106.0 </td><td>35    </td><td>2135.1</td><td>3180  </td><td>127.2 </td><td>263.5 </td><td>...   </td><td>800   </td><td>600   </td><td>12    </td><td>23.25 </td><td>100   </td><td>263.5 </td><td>158.1 </td><td>23.7  </td><td>300   </td><td>3     </td></tr>\n",
       "\t<tr><th scope=row>91196</th><td>91195 </td><td>1     </td><td>75    </td><td>175   </td><td>107.2 </td><td>35    </td><td>2137.3</td><td>3216  </td><td>128.6 </td><td>263.7 </td><td>...   </td><td>800   </td><td>600   </td><td>12    </td><td>23.25 </td><td>100   </td><td>263.7 </td><td>158.2 </td><td>23.7  </td><td>300   </td><td>3     </td></tr>\n",
       "\t<tr><th scope=row>91197</th><td>91196 </td><td>1     </td><td>75    </td><td>176   </td><td>108.4 </td><td>35    </td><td>2138.8</td><td>3252  </td><td>130.1 </td><td>263.9 </td><td>...   </td><td>800   </td><td>600   </td><td>12    </td><td>23.25 </td><td>100   </td><td>263.9 </td><td>158.3 </td><td>23.7  </td><td>300   </td><td>3     </td></tr>\n",
       "\t<tr><th scope=row>91198</th><td>91197 </td><td>1     </td><td>75    </td><td>177   </td><td>109.7 </td><td>35    </td><td>2139.1</td><td>3291  </td><td>131.6 </td><td>263.9 </td><td>...   </td><td>800   </td><td>600   </td><td>12    </td><td>23.25 </td><td>100   </td><td>263.9 </td><td>158.3 </td><td>23.8  </td><td>300   </td><td>3     </td></tr>\n",
       "\t<tr><th scope=row>91199</th><td>91198 </td><td>1     </td><td>75    </td><td>178   </td><td>110.9 </td><td>35    </td><td>2139.4</td><td>3327  </td><td>133.1 </td><td>263.9 </td><td>...   </td><td>800   </td><td>600   </td><td>12    </td><td>23.25 </td><td>100   </td><td>263.9 </td><td>158.4 </td><td>23.8  </td><td>300   </td><td>3     </td></tr>\n",
       "\t<tr><th scope=row>91200</th><td>91199 </td><td>1     </td><td>75    </td><td>179   </td><td>112.1 </td><td>35    </td><td>2139.0</td><td>3363  </td><td>134.5 </td><td>263.9 </td><td>...   </td><td>800   </td><td>600   </td><td>12    </td><td>23.25 </td><td>100   </td><td>263.9 </td><td>158.3 </td><td>23.8  </td><td>300   </td><td>3     </td></tr>\n",
       "</tbody>\n",
       "</table>\n"
      ],
      "text/latex": [
       "\\begin{tabular}{r|llllllllllllllllllllllllllll}\n",
       "  & X & Sex & Age & Height & Weight & BMI & Calories & Moisture & Protein & Saturated\\_fat & ... & P & VitaminA & VitaminE & VitaminB\\_group & VitaminC & Fatty\\_acid\\_S & Fatty\\_acid\\_M & Fatty\\_acid\\_P & Cholesterol & Cluster\\\\\n",
       "\\hline\n",
       "\t91195 & 91194  & 1      & 75     & 174    & 106.0  & 35     & 2135.1 & 3180   & 127.2  & 263.5  & ...    & 800    & 600    & 12     & 23.25  & 100    & 263.5  & 158.1  & 23.7   & 300    & 3     \\\\\n",
       "\t91196 & 91195  & 1      & 75     & 175    & 107.2  & 35     & 2137.3 & 3216   & 128.6  & 263.7  & ...    & 800    & 600    & 12     & 23.25  & 100    & 263.7  & 158.2  & 23.7   & 300    & 3     \\\\\n",
       "\t91197 & 91196  & 1      & 75     & 176    & 108.4  & 35     & 2138.8 & 3252   & 130.1  & 263.9  & ...    & 800    & 600    & 12     & 23.25  & 100    & 263.9  & 158.3  & 23.7   & 300    & 3     \\\\\n",
       "\t91198 & 91197  & 1      & 75     & 177    & 109.7  & 35     & 2139.1 & 3291   & 131.6  & 263.9  & ...    & 800    & 600    & 12     & 23.25  & 100    & 263.9  & 158.3  & 23.8   & 300    & 3     \\\\\n",
       "\t91199 & 91198  & 1      & 75     & 178    & 110.9  & 35     & 2139.4 & 3327   & 133.1  & 263.9  & ...    & 800    & 600    & 12     & 23.25  & 100    & 263.9  & 158.4  & 23.8   & 300    & 3     \\\\\n",
       "\t91200 & 91199  & 1      & 75     & 179    & 112.1  & 35     & 2139.0 & 3363   & 134.5  & 263.9  & ...    & 800    & 600    & 12     & 23.25  & 100    & 263.9  & 158.3  & 23.8   & 300    & 3     \\\\\n",
       "\\end{tabular}\n"
      ],
      "text/markdown": [
       "\n",
       "| <!--/--> | X | Sex | Age | Height | Weight | BMI | Calories | Moisture | Protein | Saturated_fat | ... | P | VitaminA | VitaminE | VitaminB_group | VitaminC | Fatty_acid_S | Fatty_acid_M | Fatty_acid_P | Cholesterol | Cluster |\n",
       "|---|---|---|---|---|---|---|---|---|---|---|---|---|---|---|---|---|---|---|---|---|---|\n",
       "| 91195 | 91194  | 1      | 75     | 174    | 106.0  | 35     | 2135.1 | 3180   | 127.2  | 263.5  | ...    | 800    | 600    | 12     | 23.25  | 100    | 263.5  | 158.1  | 23.7   | 300    | 3      |\n",
       "| 91196 | 91195  | 1      | 75     | 175    | 107.2  | 35     | 2137.3 | 3216   | 128.6  | 263.7  | ...    | 800    | 600    | 12     | 23.25  | 100    | 263.7  | 158.2  | 23.7   | 300    | 3      |\n",
       "| 91197 | 91196  | 1      | 75     | 176    | 108.4  | 35     | 2138.8 | 3252   | 130.1  | 263.9  | ...    | 800    | 600    | 12     | 23.25  | 100    | 263.9  | 158.3  | 23.7   | 300    | 3      |\n",
       "| 91198 | 91197  | 1      | 75     | 177    | 109.7  | 35     | 2139.1 | 3291   | 131.6  | 263.9  | ...    | 800    | 600    | 12     | 23.25  | 100    | 263.9  | 158.3  | 23.8   | 300    | 3      |\n",
       "| 91199 | 91198  | 1      | 75     | 178    | 110.9  | 35     | 2139.4 | 3327   | 133.1  | 263.9  | ...    | 800    | 600    | 12     | 23.25  | 100    | 263.9  | 158.4  | 23.8   | 300    | 3      |\n",
       "| 91200 | 91199  | 1      | 75     | 179    | 112.1  | 35     | 2139.0 | 3363   | 134.5  | 263.9  | ...    | 800    | 600    | 12     | 23.25  | 100    | 263.9  | 158.3  | 23.8   | 300    | 3      |\n",
       "\n"
      ],
      "text/plain": [
       "      X     Sex Age Height Weight BMI Calories Moisture Protein Saturated_fat\n",
       "91195 91194 1   75  174    106.0  35  2135.1   3180     127.2   263.5        \n",
       "91196 91195 1   75  175    107.2  35  2137.3   3216     128.6   263.7        \n",
       "91197 91196 1   75  176    108.4  35  2138.8   3252     130.1   263.9        \n",
       "91198 91197 1   75  177    109.7  35  2139.1   3291     131.6   263.9        \n",
       "91199 91198 1   75  178    110.9  35  2139.4   3327     133.1   263.9        \n",
       "91200 91199 1   75  179    112.1  35  2139.0   3363     134.5   263.9        \n",
       "      ... P   VitaminA VitaminE VitaminB_group VitaminC Fatty_acid_S\n",
       "91195 ... 800 600      12       23.25          100      263.5       \n",
       "91196 ... 800 600      12       23.25          100      263.7       \n",
       "91197 ... 800 600      12       23.25          100      263.9       \n",
       "91198 ... 800 600      12       23.25          100      263.9       \n",
       "91199 ... 800 600      12       23.25          100      263.9       \n",
       "91200 ... 800 600      12       23.25          100      263.9       \n",
       "      Fatty_acid_M Fatty_acid_P Cholesterol Cluster\n",
       "91195 158.1        23.7         300         3      \n",
       "91196 158.2        23.7         300         3      \n",
       "91197 158.3        23.7         300         3      \n",
       "91198 158.3        23.8         300         3      \n",
       "91199 158.4        23.8         300         3      \n",
       "91200 158.3        23.8         300         3      "
      ]
     },
     "metadata": {},
     "output_type": "display_data"
    }
   ],
   "source": [
    "data_new<-cbind(data_1, data_cluster)\n",
    "head(data_new)\n",
    "tail(data_new)"
   ]
  },
  {
   "cell_type": "code",
   "execution_count": 4,
   "metadata": {},
   "outputs": [],
   "source": [
    "write.csv(data_new,\"peopleSample_cluster.csv\", row.names = TRUE)"
   ]
  }
 ],
 "metadata": {
  "kernelspec": {
   "display_name": "R",
   "language": "R",
   "name": "ir"
  },
  "language_info": {
   "codemirror_mode": "r",
   "file_extension": ".r",
   "mimetype": "text/x-r-source",
   "name": "R",
   "pygments_lexer": "r",
   "version": "3.6.1"
  }
 },
 "nbformat": 4,
 "nbformat_minor": 4
}
